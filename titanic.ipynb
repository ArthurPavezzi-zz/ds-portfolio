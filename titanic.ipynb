{
 "cells": [
  {
   "cell_type": "markdown",
   "metadata": {},
   "source": [
    "# Titanic: Machine Learning from Disaster\n",
    "\n",
    "[*Clique aqui*](https://www.kaggle.com/c/titanic/) *para o link do problema no [Kaggle](kaggle.com)*\n",
    "\n",
    "---\n",
    "\n",
    "Este é um dos desafios de *Machine Learning* mais famosos, promovida pelo site (kaggle.com)[kaggle.com], uma plataforma de competições de análise preditiva. Sua popularidade fez com que virasse um **Hello, World!** de Ciência de Dados.\n",
    "\n",
    "\n",
    "## 1. Definição do problema \n",
    "\n",
    "Apesar dos sobreviventes contarem com a sorte, alguns fatores influenciaram algumas pessoas a terem mais ou menos chances de sobreviverem, como sexo e idade (\"Mulheres e crianças primeiro!\").\n",
    "\n",
    "\n",
    "### Objetivo\n",
    "\n",
    "O objetivo é prever, com base nos regressores, construir um modelo para prever se a pessoa sobreviveria ou não ao acidente trágico. A pontuação será feita exclusivamente pela acurácia, isto é, pelo percentual de acertos em relação ao total.\n",
    "\n",
    "## 2. Obtenção dos dados\n",
    "\n",
    "Os dados estão disponíveis no Kaggle, e estão divididos em dois grupos:\n",
    "* Dataset de treino (`train.csv`)\n",
    "    * Deve ser usado para criar e treinar o modelo de *Machine Learning*\n",
    "    * Possui como linhas os passageiros do Titanic, e como colunas várias informações sobre cada passageiro\n",
    "    * Diz se a pessoa sobreviveu ou não\n",
    "* Dataset de teste (`test.csv`)\n",
    "    * Deve ser usado como dados nunca vistos pelo modelo\n",
    "    \n",
    "Está disponível também um gabarito de como devem ser feitas as submissões (`gender_submission.csv`). \n",
    "\n",
    "Para baixar os dados, é necessário ter uma conta no Kaggle. Após isso, é só extrair os arquivos na pasta desejada, de preferência uma de fácil acesso."
   ]
  },
  {
   "cell_type": "code",
   "execution_count": 10,
   "metadata": {},
   "outputs": [
    {
     "name": "stdout",
     "output_type": "stream",
     "text": [
      "Populating the interactive namespace from numpy and matplotlib\n"
     ]
    }
   ],
   "source": [
    "# importing libraries\n",
    "import pandas as pd\n",
    "import numpy as np\n",
    "\n",
    "from sklearn.ensemble import RandomForestClassifier\n",
    "from sklearn.linear_model import LogisticRegression\n",
    "from sklearn.model_selection import RepeatedKFold\n",
    "\n",
    "# ignore warnings\n",
    "import warnings\n",
    "warnings.filterwarnings('ignore')\n",
    "\n",
    "# allow showing all columns\n",
    "pd.options.display.max_columns = None\n",
    "\n",
    "# seed for random states\n",
    "SEED = 357 # inside joke\n",
    "\n",
    "# magical commands for plotting\n",
    "%matplotlib inline\n",
    "%pylab inline"
   ]
  },
  {
   "cell_type": "code",
   "execution_count": 11,
   "metadata": {},
   "outputs": [],
   "source": [
    "train = pd.read_csv('train.csv')\n",
    "test = pd.read_csv('test.csv')"
   ]
  },
  {
   "cell_type": "code",
   "execution_count": 12,
   "metadata": {},
   "outputs": [
    {
     "name": "stdout",
     "output_type": "stream",
     "text": [
      "Number of values for training: 891\n"
     ]
    }
   ],
   "source": [
    "print(f\"Number of values for training: {train.shape[0]}\")"
   ]
  },
  {
   "cell_type": "markdown",
   "metadata": {},
   "source": [
    "## 3. Explorando os Dados\n",
    "\n",
    "Serão estuda\n",
    "\n",
    "### Dicionário de Dados\n",
    "\n",
    "* PassengerId: Número de identificação do passageiro\n",
    "* Survived: Informa se o passageiro sobreviveu ao desastre\n",
    "    * 0 = Não\n",
    "    * 1 = Sim\n",
    "* Pclass: Classe do bilhete\n",
    "    * 1 = 1ª Classe\n",
    "    * 2 = 2ª Classe\n",
    "    * 3 = 3ª Classe\n",
    "* Name: Nome do passageiro\n",
    "* Sex: Sexo do passageiro\n",
    "* Age: Idade do passageiro\n",
    "* SibSp: Quantidade de cônjuges e irmãos a bordo\n",
    "* Parch: Quantidade de pais e filhos a bordo\n",
    "* Ticket: Número da passagem\n",
    "* Fare: Preço da Passagem\n",
    "* Cabin: Número da cabine do passageiro\n",
    "* Embarked: Porto no qual o passageiro embarcou\n",
    "    * C = Cherbourg\n",
    "    * Q = Queenstown\n",
    "    * S = Southampton"
   ]
  },
  {
   "cell_type": "code",
   "execution_count": 15,
   "metadata": {},
   "outputs": [],
   "source": [
    "def concat_df(train_data, test_data):\n",
    "    \"\"\"Returns a concatenated DataFrame of training and test set\"\"\"\n",
    "    return pd.concat([train_data, test_data], sort=True).reset_index(drop=True)\n",
    "\n",
    "def divide_df(all_data):\n",
    "    \"\"\"Returns divided DataFrames of training and test set\"\"\"\n",
    "    return all_data.loc[:890], all_data.loc[891:].drop(['Survived'], axis=1)"
   ]
  },
  {
   "cell_type": "code",
   "execution_count": 16,
   "metadata": {
    "scrolled": true
   },
   "outputs": [
    {
     "data": {
      "text/html": [
       "<div>\n",
       "<style scoped>\n",
       "    .dataframe tbody tr th:only-of-type {\n",
       "        vertical-align: middle;\n",
       "    }\n",
       "\n",
       "    .dataframe tbody tr th {\n",
       "        vertical-align: top;\n",
       "    }\n",
       "\n",
       "    .dataframe thead th {\n",
       "        text-align: right;\n",
       "    }\n",
       "</style>\n",
       "<table border=\"1\" class=\"dataframe\">\n",
       "  <thead>\n",
       "    <tr style=\"text-align: right;\">\n",
       "      <th></th>\n",
       "      <th>Age</th>\n",
       "      <th>Cabin</th>\n",
       "      <th>Embarked</th>\n",
       "      <th>Fare</th>\n",
       "      <th>Name</th>\n",
       "      <th>Parch</th>\n",
       "      <th>PassengerId</th>\n",
       "      <th>Pclass</th>\n",
       "      <th>Sex</th>\n",
       "      <th>SibSp</th>\n",
       "      <th>Survived</th>\n",
       "      <th>Ticket</th>\n",
       "    </tr>\n",
       "  </thead>\n",
       "  <tbody>\n",
       "    <tr>\n",
       "      <th>248</th>\n",
       "      <td>37.0</td>\n",
       "      <td>D35</td>\n",
       "      <td>S</td>\n",
       "      <td>52.5542</td>\n",
       "      <td>Beckwith, Mr. Richard Leonard</td>\n",
       "      <td>1</td>\n",
       "      <td>249</td>\n",
       "      <td>1</td>\n",
       "      <td>male</td>\n",
       "      <td>1</td>\n",
       "      <td>1.0</td>\n",
       "      <td>11751</td>\n",
       "    </tr>\n",
       "    <tr>\n",
       "      <th>39</th>\n",
       "      <td>14.0</td>\n",
       "      <td>NaN</td>\n",
       "      <td>C</td>\n",
       "      <td>11.2417</td>\n",
       "      <td>Nicola-Yarred, Miss. Jamila</td>\n",
       "      <td>0</td>\n",
       "      <td>40</td>\n",
       "      <td>3</td>\n",
       "      <td>female</td>\n",
       "      <td>1</td>\n",
       "      <td>1.0</td>\n",
       "      <td>2651</td>\n",
       "    </tr>\n",
       "    <tr>\n",
       "      <th>934</th>\n",
       "      <td>30.0</td>\n",
       "      <td>NaN</td>\n",
       "      <td>S</td>\n",
       "      <td>13.0000</td>\n",
       "      <td>Corbett, Mrs. Walter H (Irene Colvin)</td>\n",
       "      <td>0</td>\n",
       "      <td>935</td>\n",
       "      <td>2</td>\n",
       "      <td>female</td>\n",
       "      <td>0</td>\n",
       "      <td>NaN</td>\n",
       "      <td>237249</td>\n",
       "    </tr>\n",
       "    <tr>\n",
       "      <th>568</th>\n",
       "      <td>NaN</td>\n",
       "      <td>NaN</td>\n",
       "      <td>C</td>\n",
       "      <td>7.2292</td>\n",
       "      <td>Doharr, Mr. Tannous</td>\n",
       "      <td>0</td>\n",
       "      <td>569</td>\n",
       "      <td>3</td>\n",
       "      <td>male</td>\n",
       "      <td>0</td>\n",
       "      <td>0.0</td>\n",
       "      <td>2686</td>\n",
       "    </tr>\n",
       "    <tr>\n",
       "      <th>193</th>\n",
       "      <td>3.0</td>\n",
       "      <td>F2</td>\n",
       "      <td>S</td>\n",
       "      <td>26.0000</td>\n",
       "      <td>Navratil, Master. Michel M</td>\n",
       "      <td>1</td>\n",
       "      <td>194</td>\n",
       "      <td>2</td>\n",
       "      <td>male</td>\n",
       "      <td>1</td>\n",
       "      <td>1.0</td>\n",
       "      <td>230080</td>\n",
       "    </tr>\n",
       "  </tbody>\n",
       "</table>\n",
       "</div>"
      ],
      "text/plain": [
       "      Age Cabin Embarked     Fare                                   Name  \\\n",
       "248  37.0   D35        S  52.5542          Beckwith, Mr. Richard Leonard   \n",
       "39   14.0   NaN        C  11.2417            Nicola-Yarred, Miss. Jamila   \n",
       "934  30.0   NaN        S  13.0000  Corbett, Mrs. Walter H (Irene Colvin)   \n",
       "568   NaN   NaN        C   7.2292                    Doharr, Mr. Tannous   \n",
       "193   3.0    F2        S  26.0000             Navratil, Master. Michel M   \n",
       "\n",
       "     Parch  PassengerId  Pclass     Sex  SibSp  Survived  Ticket  \n",
       "248      1          249       1    male      1       1.0   11751  \n",
       "39       0           40       3  female      1       1.0    2651  \n",
       "934      0          935       2  female      0       NaN  237249  \n",
       "568      0          569       3    male      0       0.0    2686  \n",
       "193      1          194       2    male      1       1.0  230080  "
      ]
     },
     "execution_count": 16,
     "metadata": {},
     "output_type": "execute_result"
    }
   ],
   "source": [
    "df_all = concat_df(train, test)\n",
    "df_all.sample(5)"
   ]
  },
  {
   "cell_type": "code",
   "execution_count": 7,
   "metadata": {},
   "outputs": [
    {
     "name": "stdout",
     "output_type": "stream",
     "text": [
      "<class 'pandas.core.frame.DataFrame'>\n",
      "RangeIndex: 1309 entries, 0 to 1308\n",
      "Data columns (total 12 columns):\n",
      " #   Column       Non-Null Count  Dtype  \n",
      "---  ------       --------------  -----  \n",
      " 0   Age          1046 non-null   float64\n",
      " 1   Cabin        295 non-null    object \n",
      " 2   Embarked     1307 non-null   object \n",
      " 3   Fare         1308 non-null   float64\n",
      " 4   Name         1309 non-null   object \n",
      " 5   Parch        1309 non-null   int64  \n",
      " 6   PassengerId  1309 non-null   int64  \n",
      " 7   Pclass       1309 non-null   int64  \n",
      " 8   Sex          1309 non-null   object \n",
      " 9   SibSp        1309 non-null   int64  \n",
      " 10  Survived     891 non-null    float64\n",
      " 11  Ticket       1309 non-null   object \n",
      "dtypes: float64(3), int64(4), object(5)\n",
      "memory usage: 122.8+ KB\n"
     ]
    }
   ],
   "source": [
    "df_all.info()"
   ]
  },
  {
   "cell_type": "code",
   "execution_count": 8,
   "metadata": {
    "scrolled": true
   },
   "outputs": [
    {
     "name": "stdout",
     "output_type": "stream",
     "text": [
      "Missing values in set:\n",
      "\tAge column missing values: 263\n",
      "\tCabin column missing values: 1014\n",
      "\tEmbarked column missing values: 2\n",
      "\tFare column missing values: 1\n",
      "\tName column missing values: 0\n",
      "\tParch column missing values: 0\n",
      "\tPassengerId column missing values: 0\n",
      "\tPclass column missing values: 0\n",
      "\tSex column missing values: 0\n",
      "\tSibSp column missing values: 0\n",
      "\tSurvived column missing values: 418\n",
      "\tTicket column missing values: 0\n"
     ]
    }
   ],
   "source": [
    "def display_missing(df):\n",
    "    \"\"\"Displays missing value for each column of the DataFrame\"\"\"\n",
    "    for col in df.columns.tolist():          \n",
    "        print(f'\\t{col} column missing values: {df[col].isnull().sum()}')\n",
    "        \n",
    "        \n",
    "print('Missing values in set:')\n",
    "display_missing(df_all)"
   ]
  },
  {
   "cell_type": "code",
   "execution_count": 18,
   "metadata": {},
   "outputs": [
    {
     "data": {
      "text/plain": [
       "Cabin          0.774637\n",
       "Survived       0.319328\n",
       "Age            0.200917\n",
       "Embarked       0.001528\n",
       "Fare           0.000764\n",
       "Ticket         0.000000\n",
       "SibSp          0.000000\n",
       "Sex            0.000000\n",
       "Pclass         0.000000\n",
       "PassengerId    0.000000\n",
       "Parch          0.000000\n",
       "Name           0.000000\n",
       "dtype: float64"
      ]
     },
     "execution_count": 18,
     "metadata": {},
     "output_type": "execute_result"
    }
   ],
   "source": [
    "(df_all.isnull().sum() / df_all.shape[0]).sort_values(ascending=False)"
   ]
  },
  {
   "cell_type": "code",
   "execution_count": 19,
   "metadata": {},
   "outputs": [
    {
     "data": {
      "text/html": [
       "<div>\n",
       "<style scoped>\n",
       "    .dataframe tbody tr th:only-of-type {\n",
       "        vertical-align: middle;\n",
       "    }\n",
       "\n",
       "    .dataframe tbody tr th {\n",
       "        vertical-align: top;\n",
       "    }\n",
       "\n",
       "    .dataframe thead th {\n",
       "        text-align: right;\n",
       "    }\n",
       "</style>\n",
       "<table border=\"1\" class=\"dataframe\">\n",
       "  <thead>\n",
       "    <tr style=\"text-align: right;\">\n",
       "      <th></th>\n",
       "      <th>Age</th>\n",
       "      <th>Fare</th>\n",
       "      <th>Parch</th>\n",
       "      <th>PassengerId</th>\n",
       "      <th>Pclass</th>\n",
       "      <th>SibSp</th>\n",
       "      <th>Survived</th>\n",
       "    </tr>\n",
       "  </thead>\n",
       "  <tbody>\n",
       "    <tr>\n",
       "      <th>count</th>\n",
       "      <td>1046.000000</td>\n",
       "      <td>1308.000000</td>\n",
       "      <td>1309.000000</td>\n",
       "      <td>1309.000000</td>\n",
       "      <td>1309.000000</td>\n",
       "      <td>1309.000000</td>\n",
       "      <td>891.000000</td>\n",
       "    </tr>\n",
       "    <tr>\n",
       "      <th>mean</th>\n",
       "      <td>29.881138</td>\n",
       "      <td>33.295479</td>\n",
       "      <td>0.385027</td>\n",
       "      <td>655.000000</td>\n",
       "      <td>2.294882</td>\n",
       "      <td>0.498854</td>\n",
       "      <td>0.383838</td>\n",
       "    </tr>\n",
       "    <tr>\n",
       "      <th>std</th>\n",
       "      <td>14.413493</td>\n",
       "      <td>51.758668</td>\n",
       "      <td>0.865560</td>\n",
       "      <td>378.020061</td>\n",
       "      <td>0.837836</td>\n",
       "      <td>1.041658</td>\n",
       "      <td>0.486592</td>\n",
       "    </tr>\n",
       "    <tr>\n",
       "      <th>min</th>\n",
       "      <td>0.170000</td>\n",
       "      <td>0.000000</td>\n",
       "      <td>0.000000</td>\n",
       "      <td>1.000000</td>\n",
       "      <td>1.000000</td>\n",
       "      <td>0.000000</td>\n",
       "      <td>0.000000</td>\n",
       "    </tr>\n",
       "    <tr>\n",
       "      <th>25%</th>\n",
       "      <td>21.000000</td>\n",
       "      <td>7.895800</td>\n",
       "      <td>0.000000</td>\n",
       "      <td>328.000000</td>\n",
       "      <td>2.000000</td>\n",
       "      <td>0.000000</td>\n",
       "      <td>0.000000</td>\n",
       "    </tr>\n",
       "    <tr>\n",
       "      <th>50%</th>\n",
       "      <td>28.000000</td>\n",
       "      <td>14.454200</td>\n",
       "      <td>0.000000</td>\n",
       "      <td>655.000000</td>\n",
       "      <td>3.000000</td>\n",
       "      <td>0.000000</td>\n",
       "      <td>0.000000</td>\n",
       "    </tr>\n",
       "    <tr>\n",
       "      <th>75%</th>\n",
       "      <td>39.000000</td>\n",
       "      <td>31.275000</td>\n",
       "      <td>0.000000</td>\n",
       "      <td>982.000000</td>\n",
       "      <td>3.000000</td>\n",
       "      <td>1.000000</td>\n",
       "      <td>1.000000</td>\n",
       "    </tr>\n",
       "    <tr>\n",
       "      <th>max</th>\n",
       "      <td>80.000000</td>\n",
       "      <td>512.329200</td>\n",
       "      <td>9.000000</td>\n",
       "      <td>1309.000000</td>\n",
       "      <td>3.000000</td>\n",
       "      <td>8.000000</td>\n",
       "      <td>1.000000</td>\n",
       "    </tr>\n",
       "  </tbody>\n",
       "</table>\n",
       "</div>"
      ],
      "text/plain": [
       "               Age         Fare        Parch  PassengerId       Pclass  \\\n",
       "count  1046.000000  1308.000000  1309.000000  1309.000000  1309.000000   \n",
       "mean     29.881138    33.295479     0.385027   655.000000     2.294882   \n",
       "std      14.413493    51.758668     0.865560   378.020061     0.837836   \n",
       "min       0.170000     0.000000     0.000000     1.000000     1.000000   \n",
       "25%      21.000000     7.895800     0.000000   328.000000     2.000000   \n",
       "50%      28.000000    14.454200     0.000000   655.000000     3.000000   \n",
       "75%      39.000000    31.275000     0.000000   982.000000     3.000000   \n",
       "max      80.000000   512.329200     9.000000  1309.000000     3.000000   \n",
       "\n",
       "             SibSp    Survived  \n",
       "count  1309.000000  891.000000  \n",
       "mean      0.498854    0.383838  \n",
       "std       1.041658    0.486592  \n",
       "min       0.000000    0.000000  \n",
       "25%       0.000000    0.000000  \n",
       "50%       0.000000    0.000000  \n",
       "75%       1.000000    1.000000  \n",
       "max       8.000000    1.000000  "
      ]
     },
     "execution_count": 19,
     "metadata": {},
     "output_type": "execute_result"
    }
   ],
   "source": [
    "df_all.describe()"
   ]
  },
  {
   "cell_type": "markdown",
   "metadata": {},
   "source": [
    "## 4. Preparação dos dados"
   ]
  },
  {
   "cell_type": "code",
   "execution_count": 5,
   "metadata": {},
   "outputs": [],
   "source": [
    "def transform_sex(valor):\n",
    "    \"\"\"changes categorical value of sex to a binary numerical value of sex\"\"\"\n",
    "    return 1 if valor == 'female' else 0"
   ]
  },
  {
   "cell_type": "code",
   "execution_count": 9,
   "metadata": {},
   "outputs": [],
   "source": [
    "df_all['Sex_binary'] = df_all['Sex'].map(transform_sex)"
   ]
  },
  {
   "cell_type": "code",
   "execution_count": 10,
   "metadata": {},
   "outputs": [
    {
     "name": "stdout",
     "output_type": "stream",
     "text": [
      "Median age of Pclass 1 females: 36.0\n",
      "Median age of Pclass 1 males: 42.0\n",
      "Median age of Pclass 2 females: 28.0\n",
      "Median age of Pclass 2 males: 29.5\n",
      "Median age of Pclass 3 females: 22.0\n",
      "Median age of Pclass 3 males: 25.0\n",
      "Median age of all passengers: 28.0\n"
     ]
    }
   ],
   "source": [
    "age_by_pclass_sex = df_all.groupby(['Sex', 'Pclass']).median()['Age']\n",
    "\n",
    "for pclass in range(1, 4):\n",
    "    for sex in ['female', 'male']:\n",
    "        print(f'Median age of Pclass {pclass} {sex}s: {age_by_pclass_sex[sex][pclass]}')\n",
    "print(f'Median age of all passengers: {df_all[\"Age\"].median()}')\n",
    "\n",
    "# Filling the missing values in Age with the medians of Sex and Pclass groups\n",
    "df_all['Age'] = df_all.groupby(['Sex', 'Pclass'])['Age'].apply(lambda x: x.fillna(x.median()))"
   ]
  },
  {
   "cell_type": "code",
   "execution_count": 11,
   "metadata": {},
   "outputs": [
    {
     "data": {
      "text/html": [
       "<div>\n",
       "<style scoped>\n",
       "    .dataframe tbody tr th:only-of-type {\n",
       "        vertical-align: middle;\n",
       "    }\n",
       "\n",
       "    .dataframe tbody tr th {\n",
       "        vertical-align: top;\n",
       "    }\n",
       "\n",
       "    .dataframe thead th {\n",
       "        text-align: right;\n",
       "    }\n",
       "</style>\n",
       "<table border=\"1\" class=\"dataframe\">\n",
       "  <thead>\n",
       "    <tr style=\"text-align: right;\">\n",
       "      <th></th>\n",
       "      <th>Age</th>\n",
       "      <th>Cabin</th>\n",
       "      <th>Embarked</th>\n",
       "      <th>Fare</th>\n",
       "      <th>Name</th>\n",
       "      <th>Parch</th>\n",
       "      <th>PassengerId</th>\n",
       "      <th>Pclass</th>\n",
       "      <th>Sex</th>\n",
       "      <th>SibSp</th>\n",
       "      <th>Survived</th>\n",
       "      <th>Ticket</th>\n",
       "      <th>Sex_binary</th>\n",
       "    </tr>\n",
       "  </thead>\n",
       "  <tbody>\n",
       "    <tr>\n",
       "      <th>61</th>\n",
       "      <td>38.0</td>\n",
       "      <td>B28</td>\n",
       "      <td>NaN</td>\n",
       "      <td>80.0</td>\n",
       "      <td>Icard, Miss. Amelie</td>\n",
       "      <td>0</td>\n",
       "      <td>62</td>\n",
       "      <td>1</td>\n",
       "      <td>female</td>\n",
       "      <td>0</td>\n",
       "      <td>1.0</td>\n",
       "      <td>113572</td>\n",
       "      <td>1</td>\n",
       "    </tr>\n",
       "    <tr>\n",
       "      <th>829</th>\n",
       "      <td>62.0</td>\n",
       "      <td>B28</td>\n",
       "      <td>NaN</td>\n",
       "      <td>80.0</td>\n",
       "      <td>Stone, Mrs. George Nelson (Martha Evelyn)</td>\n",
       "      <td>0</td>\n",
       "      <td>830</td>\n",
       "      <td>1</td>\n",
       "      <td>female</td>\n",
       "      <td>0</td>\n",
       "      <td>1.0</td>\n",
       "      <td>113572</td>\n",
       "      <td>1</td>\n",
       "    </tr>\n",
       "  </tbody>\n",
       "</table>\n",
       "</div>"
      ],
      "text/plain": [
       "      Age Cabin Embarked  Fare                                       Name  \\\n",
       "61   38.0   B28      NaN  80.0                        Icard, Miss. Amelie   \n",
       "829  62.0   B28      NaN  80.0  Stone, Mrs. George Nelson (Martha Evelyn)   \n",
       "\n",
       "     Parch  PassengerId  Pclass     Sex  SibSp  Survived  Ticket  Sex_binary  \n",
       "61       0           62       1  female      0       1.0  113572           1  \n",
       "829      0          830       1  female      0       1.0  113572           1  "
      ]
     },
     "execution_count": 11,
     "metadata": {},
     "output_type": "execute_result"
    }
   ],
   "source": [
    "df_all[df_all['Embarked'].isnull()]"
   ]
  },
  {
   "cell_type": "code",
   "execution_count": 12,
   "metadata": {},
   "outputs": [
    {
     "name": "stdout",
     "output_type": "stream",
     "text": [
      "The mode, i.e. the most common value, in \"Embaked\", is S\n"
     ]
    }
   ],
   "source": [
    "# Filling the missing values in Embarked with the mode\n",
    "mode_embarked = df_all['Embarked'].mode().values[0]\n",
    "print(f'The mode, i.e. the most common value, in \"Embaked\", is {mode_embarked}')\n",
    "df_all['Embarked'].fillna(mode_embarked, inplace=True)"
   ]
  },
  {
   "cell_type": "code",
   "execution_count": 13,
   "metadata": {},
   "outputs": [
    {
     "data": {
      "text/html": [
       "<div>\n",
       "<style scoped>\n",
       "    .dataframe tbody tr th:only-of-type {\n",
       "        vertical-align: middle;\n",
       "    }\n",
       "\n",
       "    .dataframe tbody tr th {\n",
       "        vertical-align: top;\n",
       "    }\n",
       "\n",
       "    .dataframe thead th {\n",
       "        text-align: right;\n",
       "    }\n",
       "</style>\n",
       "<table border=\"1\" class=\"dataframe\">\n",
       "  <thead>\n",
       "    <tr style=\"text-align: right;\">\n",
       "      <th></th>\n",
       "      <th>Age</th>\n",
       "      <th>Cabin</th>\n",
       "      <th>Embarked</th>\n",
       "      <th>Fare</th>\n",
       "      <th>Name</th>\n",
       "      <th>Parch</th>\n",
       "      <th>PassengerId</th>\n",
       "      <th>Pclass</th>\n",
       "      <th>Sex</th>\n",
       "      <th>SibSp</th>\n",
       "      <th>Survived</th>\n",
       "      <th>Ticket</th>\n",
       "      <th>Sex_binary</th>\n",
       "    </tr>\n",
       "  </thead>\n",
       "  <tbody>\n",
       "    <tr>\n",
       "      <th>1043</th>\n",
       "      <td>60.5</td>\n",
       "      <td>NaN</td>\n",
       "      <td>S</td>\n",
       "      <td>NaN</td>\n",
       "      <td>Storey, Mr. Thomas</td>\n",
       "      <td>0</td>\n",
       "      <td>1044</td>\n",
       "      <td>3</td>\n",
       "      <td>male</td>\n",
       "      <td>0</td>\n",
       "      <td>NaN</td>\n",
       "      <td>3701</td>\n",
       "      <td>0</td>\n",
       "    </tr>\n",
       "  </tbody>\n",
       "</table>\n",
       "</div>"
      ],
      "text/plain": [
       "       Age Cabin Embarked  Fare                Name  Parch  PassengerId  \\\n",
       "1043  60.5   NaN        S   NaN  Storey, Mr. Thomas      0         1044   \n",
       "\n",
       "      Pclass   Sex  SibSp  Survived Ticket  Sex_binary  \n",
       "1043       3  male      0       NaN   3701           0  "
      ]
     },
     "execution_count": 13,
     "metadata": {},
     "output_type": "execute_result"
    }
   ],
   "source": [
    "df_all[df_all['Fare'].isnull()]"
   ]
  },
  {
   "cell_type": "code",
   "execution_count": 14,
   "metadata": {},
   "outputs": [],
   "source": [
    "med_fare = df_all.groupby(['Pclass', 'Parch', 'SibSp']).Fare.median()[3][0][0]\n",
    "# Filling the missing value in Fare with the median Fare of 3rd class alone passenger\n",
    "df_all['Fare'].fillna(med_fare, inplace=True)"
   ]
  },
  {
   "cell_type": "code",
   "execution_count": 15,
   "metadata": {},
   "outputs": [
    {
     "data": {
      "text/plain": [
       "Age            False\n",
       "Cabin           True\n",
       "Embarked       False\n",
       "Fare           False\n",
       "Name           False\n",
       "Parch          False\n",
       "PassengerId    False\n",
       "Pclass         False\n",
       "Sex            False\n",
       "SibSp          False\n",
       "Survived        True\n",
       "Ticket         False\n",
       "Sex_binary     False\n",
       "dtype: bool"
      ]
     },
     "execution_count": 15,
     "metadata": {},
     "output_type": "execute_result"
    }
   ],
   "source": [
    "df_all.isnull().any()"
   ]
  },
  {
   "cell_type": "code",
   "execution_count": 16,
   "metadata": {},
   "outputs": [],
   "source": [
    "train, test = divide_df(df_all)"
   ]
  },
  {
   "cell_type": "code",
   "execution_count": 17,
   "metadata": {},
   "outputs": [],
   "source": [
    "variables = ['Sex_binary', 'Age']\n",
    "\n",
    "X = train[variables]\n",
    "y = train['Survived']"
   ]
  },
  {
   "cell_type": "code",
   "execution_count": 18,
   "metadata": {},
   "outputs": [
    {
     "data": {
      "text/html": [
       "<div>\n",
       "<style scoped>\n",
       "    .dataframe tbody tr th:only-of-type {\n",
       "        vertical-align: middle;\n",
       "    }\n",
       "\n",
       "    .dataframe tbody tr th {\n",
       "        vertical-align: top;\n",
       "    }\n",
       "\n",
       "    .dataframe thead th {\n",
       "        text-align: right;\n",
       "    }\n",
       "</style>\n",
       "<table border=\"1\" class=\"dataframe\">\n",
       "  <thead>\n",
       "    <tr style=\"text-align: right;\">\n",
       "      <th></th>\n",
       "      <th>Age</th>\n",
       "      <th>Cabin</th>\n",
       "      <th>Embarked</th>\n",
       "      <th>Fare</th>\n",
       "      <th>Name</th>\n",
       "      <th>Parch</th>\n",
       "      <th>PassengerId</th>\n",
       "      <th>Pclass</th>\n",
       "      <th>Sex</th>\n",
       "      <th>SibSp</th>\n",
       "      <th>Ticket</th>\n",
       "      <th>Sex_binary</th>\n",
       "    </tr>\n",
       "  </thead>\n",
       "  <tbody>\n",
       "    <tr>\n",
       "      <th>891</th>\n",
       "      <td>34.5</td>\n",
       "      <td>NaN</td>\n",
       "      <td>Q</td>\n",
       "      <td>7.8292</td>\n",
       "      <td>Kelly, Mr. James</td>\n",
       "      <td>0</td>\n",
       "      <td>892</td>\n",
       "      <td>3</td>\n",
       "      <td>male</td>\n",
       "      <td>0</td>\n",
       "      <td>330911</td>\n",
       "      <td>0</td>\n",
       "    </tr>\n",
       "    <tr>\n",
       "      <th>892</th>\n",
       "      <td>47.0</td>\n",
       "      <td>NaN</td>\n",
       "      <td>S</td>\n",
       "      <td>7.0000</td>\n",
       "      <td>Wilkes, Mrs. James (Ellen Needs)</td>\n",
       "      <td>0</td>\n",
       "      <td>893</td>\n",
       "      <td>3</td>\n",
       "      <td>female</td>\n",
       "      <td>1</td>\n",
       "      <td>363272</td>\n",
       "      <td>1</td>\n",
       "    </tr>\n",
       "    <tr>\n",
       "      <th>893</th>\n",
       "      <td>62.0</td>\n",
       "      <td>NaN</td>\n",
       "      <td>Q</td>\n",
       "      <td>9.6875</td>\n",
       "      <td>Myles, Mr. Thomas Francis</td>\n",
       "      <td>0</td>\n",
       "      <td>894</td>\n",
       "      <td>2</td>\n",
       "      <td>male</td>\n",
       "      <td>0</td>\n",
       "      <td>240276</td>\n",
       "      <td>0</td>\n",
       "    </tr>\n",
       "    <tr>\n",
       "      <th>894</th>\n",
       "      <td>27.0</td>\n",
       "      <td>NaN</td>\n",
       "      <td>S</td>\n",
       "      <td>8.6625</td>\n",
       "      <td>Wirz, Mr. Albert</td>\n",
       "      <td>0</td>\n",
       "      <td>895</td>\n",
       "      <td>3</td>\n",
       "      <td>male</td>\n",
       "      <td>0</td>\n",
       "      <td>315154</td>\n",
       "      <td>0</td>\n",
       "    </tr>\n",
       "    <tr>\n",
       "      <th>895</th>\n",
       "      <td>22.0</td>\n",
       "      <td>NaN</td>\n",
       "      <td>S</td>\n",
       "      <td>12.2875</td>\n",
       "      <td>Hirvonen, Mrs. Alexander (Helga E Lindqvist)</td>\n",
       "      <td>1</td>\n",
       "      <td>896</td>\n",
       "      <td>3</td>\n",
       "      <td>female</td>\n",
       "      <td>1</td>\n",
       "      <td>3101298</td>\n",
       "      <td>1</td>\n",
       "    </tr>\n",
       "  </tbody>\n",
       "</table>\n",
       "</div>"
      ],
      "text/plain": [
       "      Age Cabin Embarked     Fare  \\\n",
       "891  34.5   NaN        Q   7.8292   \n",
       "892  47.0   NaN        S   7.0000   \n",
       "893  62.0   NaN        Q   9.6875   \n",
       "894  27.0   NaN        S   8.6625   \n",
       "895  22.0   NaN        S  12.2875   \n",
       "\n",
       "                                             Name  Parch  PassengerId  Pclass  \\\n",
       "891                              Kelly, Mr. James      0          892       3   \n",
       "892              Wilkes, Mrs. James (Ellen Needs)      0          893       3   \n",
       "893                     Myles, Mr. Thomas Francis      0          894       2   \n",
       "894                              Wirz, Mr. Albert      0          895       3   \n",
       "895  Hirvonen, Mrs. Alexander (Helga E Lindqvist)      1          896       3   \n",
       "\n",
       "        Sex  SibSp   Ticket  Sex_binary  \n",
       "891    male      0   330911           0  \n",
       "892  female      1   363272           1  \n",
       "893    male      0   240276           0  \n",
       "894    male      0   315154           0  \n",
       "895  female      1  3101298           1  "
      ]
     },
     "execution_count": 18,
     "metadata": {},
     "output_type": "execute_result"
    }
   ],
   "source": [
    "test.head()"
   ]
  },
  {
   "cell_type": "markdown",
   "metadata": {},
   "source": [
    "## Novas variáveis para o modelo"
   ]
  },
  {
   "cell_type": "code",
   "execution_count": 19,
   "metadata": {},
   "outputs": [],
   "source": [
    "train['Embarked_S'] = (train['Embarked'] == 'S').astype(int)\n",
    "train['Embarked_C'] = (train['Embarked'] == 'C').astype(int)\n",
    "\n",
    "train['Cabine_nula'] = train['Cabin'].isnull().astype(int)\n",
    "\n",
    "train['Name_contains_Miss'] = train['Name'].str.contains('Miss').astype(int)\n",
    "train['Name_contains_Mrs'] = train['Name'].str.contains('Mrs').astype(int)\n",
    "\n",
    "train['Name_contains_Master'] = train['Name'].str.contains('Master').astype(int)\n",
    "train['Name_contains_Col'] = train['Name'].str.contains('Col').astype(int)\n",
    "train['Name_contains_Major'] = train['Name'].str.contains('Major').astype(int)\n",
    "train['Name_contains_Mr'] = train['Name'].str.contains('Mr').astype(int)"
   ]
  },
  {
   "cell_type": "code",
   "execution_count": 20,
   "metadata": {},
   "outputs": [],
   "source": [
    "variables = [\n",
    "    'Sex_binary', 'Age', 'Pclass',\n",
    "    'SibSp', 'Parch', 'Fare',\n",
    "    'Embarked_S', 'Embarked_C', 'Cabine_nula', \n",
    "    'Name_contains_Miss', 'Name_contains_Mrs', 'Name_contains_Master',\n",
    "    'Name_contains_Col', 'Name_contains_Major', 'Name_contains_Mr'\n",
    "]\n",
    "\n",
    "X = train[variables]\n",
    "y = train['Survived']"
   ]
  },
  {
   "cell_type": "markdown",
   "metadata": {},
   "source": [
    "# Construção do Modelo\n",
    "\n",
    "## Modelo com RandomForest"
   ]
  },
  {
   "cell_type": "code",
   "execution_count": 54,
   "metadata": {},
   "outputs": [
    {
     "name": "stdout",
     "output_type": "stream",
     "text": [
      "Acc: 0.8295964125560538\n",
      "\n",
      "Acc: 0.8044943820224719\n",
      "\n",
      "Acc: 0.8475336322869955\n",
      "\n",
      "Acc: 0.7910112359550562\n",
      "\n",
      "Acc: 0.8340807174887892\n",
      "\n",
      "Acc: 0.8112359550561797\n",
      "\n",
      "Acc: 0.8318385650224215\n",
      "\n",
      "Acc: 0.7842696629213484\n",
      "\n",
      "Acc: 0.8026905829596412\n",
      "\n",
      "Acc: 0.8269662921348314\n",
      "\n",
      "Acc: 0.820627802690583\n",
      "\n",
      "Acc: 0.8247191011235955\n",
      "\n",
      "Acc: 0.8026905829596412\n",
      "\n",
      "Acc: 0.8112359550561797\n",
      "\n",
      "Acc: 0.8183856502242153\n",
      "\n",
      "Acc: 0.8269662921348314\n",
      "\n",
      "Acc: 0.8116591928251121\n",
      "\n",
      "Acc: 0.8157303370786517\n",
      "\n",
      "Acc: 0.8251121076233184\n",
      "\n",
      "Acc: 0.8157303370786517\n",
      "\n"
     ]
    }
   ],
   "source": [
    "results_rf = []\n",
    "kf = RepeatedKFold(n_splits=2, n_repeats=10, random_state=SEED)\n",
    "\n",
    "for lines_train, lines_valid in kf.split(X):\n",
    "    X_train, X_valid = X.iloc[lines_train], X.iloc[lines_valid]\n",
    "    y_train, y_valid = y.iloc[lines_train], y.iloc[lines_valid]\n",
    "\n",
    "    model = RandomForestClassifier(criterion='gini',\n",
    "                                   n_estimators=2000,\n",
    "                                   max_depth=7,\n",
    "                                   min_samples_split=6,\n",
    "                                   min_samples_leaf=6,\n",
    "                                   max_features='auto',\n",
    "                                   oob_score=True,\n",
    "                                   n_jobs=-1,\n",
    "                                   random_state=SEED)\n",
    "    model.fit(X_train, y_train)\n",
    "\n",
    "    p = model.predict(X_valid)\n",
    "\n",
    "    acc = np.mean(y_valid == p)\n",
    "    results_rf.append(acc)\n",
    "    print(f\"Acc: {acc}\")\n",
    "    print()"
   ]
  },
  {
   "cell_type": "code",
   "execution_count": 55,
   "metadata": {},
   "outputs": [
    {
     "data": {
      "text/plain": [
       "0.8168287398599287"
      ]
     },
     "execution_count": 55,
     "metadata": {},
     "output_type": "execute_result"
    }
   ],
   "source": [
    "np.mean(results_rf)"
   ]
  },
  {
   "cell_type": "code",
   "execution_count": 56,
   "metadata": {
    "scrolled": true
   },
   "outputs": [
    {
     "data": {
      "text/plain": [
       "(array([1., 1., 2., 1., 5., 2., 4., 3., 0., 1.]),\n",
       " array([0.78426966, 0.79059606, 0.79692246, 0.80324885, 0.80957525,\n",
       "        0.81590165, 0.82222804, 0.82855444, 0.83488084, 0.84120724,\n",
       "        0.84753363]),\n",
       " <a list of 10 Patch objects>)"
      ]
     },
     "execution_count": 56,
     "metadata": {},
     "output_type": "execute_result"
    },
    {
     "data": {
      "image/png": "[encoded data removed]",
      "text/plain": [
       "<Figure size 432x288 with 1 Axes>"
      ]
     },
     "metadata": {
      "needs_background": "light"
     },
     "output_type": "display_data"
    }
   ],
   "source": [
    "pylab.hist(results_rf)"
   ]
  },
  {
   "cell_type": "markdown",
   "metadata": {},
   "source": [
    "## Modelo com LogisticRegression"
   ]
  },
  {
   "cell_type": "code",
   "execution_count": 57,
   "metadata": {
    "scrolled": true
   },
   "outputs": [
    {
     "name": "stdout",
     "output_type": "stream",
     "text": [
      "Treino: 445\n",
      "Valid: 446\n",
      "Acc: 0.8408071748878924\n",
      "\n",
      "Treino: 446\n",
      "Valid: 445\n",
      "Acc: 0.8\n",
      "\n",
      "Treino: 445\n",
      "Valid: 446\n",
      "Acc: 0.8430493273542601\n",
      "\n",
      "Treino: 446\n",
      "Valid: 445\n",
      "Acc: 0.8134831460674158\n",
      "\n",
      "Treino: 445\n",
      "Valid: 446\n",
      "Acc: 0.8228699551569507\n",
      "\n",
      "Treino: 446\n",
      "Valid: 445\n",
      "Acc: 0.8269662921348314\n",
      "\n",
      "Treino: 445\n",
      "Valid: 446\n",
      "Acc: 0.8183856502242153\n",
      "\n",
      "Treino: 446\n",
      "Valid: 445\n",
      "Acc: 0.8157303370786517\n",
      "\n",
      "Treino: 445\n",
      "Valid: 446\n",
      "Acc: 0.8071748878923767\n",
      "\n",
      "Treino: 446\n",
      "Valid: 445\n",
      "Acc: 0.8382022471910112\n",
      "\n",
      "Treino: 445\n",
      "Valid: 446\n",
      "Acc: 0.827354260089686\n",
      "\n",
      "Treino: 446\n",
      "Valid: 445\n",
      "Acc: 0.8359550561797753\n",
      "\n",
      "Treino: 445\n",
      "Valid: 446\n",
      "Acc: 0.8228699551569507\n",
      "\n",
      "Treino: 446\n",
      "Valid: 445\n",
      "Acc: 0.8067415730337079\n",
      "\n",
      "Treino: 445\n",
      "Valid: 446\n",
      "Acc: 0.827354260089686\n",
      "\n",
      "Treino: 446\n",
      "Valid: 445\n",
      "Acc: 0.8359550561797753\n",
      "\n",
      "Treino: 445\n",
      "Valid: 446\n",
      "Acc: 0.8094170403587444\n",
      "\n",
      "Treino: 446\n",
      "Valid: 445\n",
      "Acc: 0.8247191011235955\n",
      "\n",
      "Treino: 445\n",
      "Valid: 446\n",
      "Acc: 0.8183856502242153\n",
      "\n",
      "Treino: 446\n",
      "Valid: 445\n",
      "Acc: 0.8112359550561797\n",
      "\n",
      "Treino: 445\n",
      "Valid: 446\n",
      "Acc: 0.827354260089686\n",
      "\n",
      "Treino: 446\n",
      "Valid: 445\n",
      "Acc: 0.8179775280898877\n",
      "\n",
      "Treino: 445\n",
      "Valid: 446\n",
      "Acc: 0.8139013452914798\n",
      "\n",
      "Treino: 446\n",
      "Valid: 445\n",
      "Acc: 0.8314606741573034\n",
      "\n",
      "Treino: 445\n",
      "Valid: 446\n",
      "Acc: 0.8139013452914798\n",
      "\n",
      "Treino: 446\n",
      "Valid: 445\n",
      "Acc: 0.8314606741573034\n",
      "\n",
      "Treino: 445\n",
      "Valid: 446\n",
      "Acc: 0.8026905829596412\n",
      "\n",
      "Treino: 446\n",
      "Valid: 445\n",
      "Acc: 0.8471910112359551\n",
      "\n",
      "Treino: 445\n",
      "Valid: 446\n",
      "Acc: 0.8318385650224215\n",
      "\n",
      "Treino: 446\n",
      "Valid: 445\n",
      "Acc: 0.8067415730337079\n",
      "\n",
      "Treino: 445\n",
      "Valid: 446\n",
      "Acc: 0.8251121076233184\n",
      "\n",
      "Treino: 446\n",
      "Valid: 445\n",
      "Acc: 0.8359550561797753\n",
      "\n",
      "Treino: 445\n",
      "Valid: 446\n",
      "Acc: 0.8139013452914798\n",
      "\n",
      "Treino: 446\n",
      "Valid: 445\n",
      "Acc: 0.8044943820224719\n",
      "\n",
      "Treino: 445\n",
      "Valid: 446\n",
      "Acc: 0.8251121076233184\n",
      "\n",
      "Treino: 446\n",
      "Valid: 445\n",
      "Acc: 0.8269662921348314\n",
      "\n",
      "Treino: 445\n",
      "Valid: 446\n",
      "Acc: 0.8183856502242153\n",
      "\n",
      "Treino: 446\n",
      "Valid: 445\n",
      "Acc: 0.8224719101123595\n",
      "\n",
      "Treino: 445\n",
      "Valid: 446\n",
      "Acc: 0.8340807174887892\n",
      "\n",
      "Treino: 446\n",
      "Valid: 445\n",
      "Acc: 0.8359550561797753\n",
      "\n"
     ]
    }
   ],
   "source": [
    "results_lr = []\n",
    "kf = RepeatedKFold(n_splits=2, n_repeats=20, random_state=SEED)\n",
    "\n",
    "for linhas_treino, linhas_valid in kf.split(X):\n",
    "    print(f'Treino: {linhas_treino.shape[0]}')\n",
    "    print(f'Valid: {linhas_valid.shape[0]}')\n",
    "    \n",
    "    X_treino, X_valid = X.iloc[linhas_treino], X.iloc[linhas_valid]\n",
    "    y_treino, y_valid = y.iloc[linhas_treino], y.iloc[linhas_valid]\n",
    "    \n",
    "    model = LogisticRegression(random_state=SEED)\n",
    "    model.fit(X_treino, y_treino)\n",
    "    \n",
    "    p = model.predict(X_valid)\n",
    "    \n",
    "    acc = np.mean(y_valid == p)\n",
    "    results_lr.append(acc)\n",
    "    print(f'Acc: {acc}')\n",
    "    print()"
   ]
  },
  {
   "cell_type": "markdown",
   "metadata": {},
   "source": [
    "## Comparação dos dois modelos"
   ]
  },
  {
   "cell_type": "code",
   "execution_count": 61,
   "metadata": {},
   "outputs": [
    {
     "data": {
      "text/plain": [
       "((array([3., 4., 5., 5., 3., 8., 3., 5., 2., 2.]),\n",
       "  array([0.8       , 0.8047191 , 0.8094382 , 0.8141573 , 0.8188764 ,\n",
       "         0.82359551, 0.82831461, 0.83303371, 0.83775281, 0.84247191,\n",
       "         0.84719101]),\n",
       "  <a list of 10 Patch objects>),\n",
       " (array([1., 1., 2., 1., 5., 2., 4., 3., 0., 1.]),\n",
       "  array([0.78426966, 0.79059606, 0.79692246, 0.80324885, 0.80957525,\n",
       "         0.81590165, 0.82222804, 0.82855444, 0.83488084, 0.84120724,\n",
       "         0.84753363]),\n",
       "  <a list of 10 Patch objects>))"
      ]
     },
     "execution_count": 61,
     "metadata": {},
     "output_type": "execute_result"
    },
    {
     "data": {
      "image/png": "[encoded data removed]",
      "text/plain": [
       "<Figure size 432x288 with 1 Axes>"
      ]
     },
     "metadata": {
      "needs_background": "light"
     },
     "output_type": "display_data"
    }
   ],
   "source": [
    "pylab.hist(results_lr), pylab.hist(results_rf, alpha=0.5)"
   ]
  },
  {
   "cell_type": "code",
   "execution_count": 62,
   "metadata": {},
   "outputs": [
    {
     "name": "stdout",
     "output_type": "stream",
     "text": [
      "Mean of model #1: 0.8168287398599287\n",
      "Mean of model #2: 0.822840227742228\n"
     ]
    }
   ],
   "source": [
    "means = [np.mean(results_rf), np.mean(results_lr)]\n",
    "\n",
    "for i in range(2):\n",
    "    print(f'Mean of model #{i+1}: {means[i]}')"
   ]
  },
  {
   "cell_type": "code",
   "execution_count": 83,
   "metadata": {
    "scrolled": true
   },
   "outputs": [],
   "source": [
    "test['Embarked_S'] = (test['Embarked'] == 'S').astype(int)\n",
    "test['Embarked_C'] = (test['Embarked'] == 'C').astype(int)\n",
    "\n",
    "test['Cabine_nula'] = test['Cabin'].isnull().astype(int)\n",
    "\n",
    "test['Name_contains_Miss'] = test['Name'].str.contains('Miss').astype(int)\n",
    "test['Name_contains_Mrs'] = test['Name'].str.contains('Mrs').astype(int)\n",
    "\n",
    "test['Name_contains_Master'] = test['Name'].str.contains('Master').astype(int)\n",
    "test['Name_contains_Col'] = test['Name'].str.contains('Col').astype(int)\n",
    "test['Name_contains_Major'] = test['Name'].str.contains('Major').astype(int)\n",
    "test['Name_contains_Mr'] = test['Name'].str.contains('Mr').astype(int)"
   ]
  },
  {
   "cell_type": "code",
   "execution_count": 94,
   "metadata": {},
   "outputs": [],
   "source": [
    "model_rf = RandomForestClassifier(criterion='gini',\n",
    "                                  n_estimators=2250,\n",
    "                                  max_depth=8,\n",
    "                                  min_samples_split=6,\n",
    "                                  min_samples_leaf=6,\n",
    "                                  max_features='auto',\n",
    "                                  oob_score=True,\n",
    "                                  n_jobs=-1,\n",
    "                                  random_state=SEED)\n",
    "model_rf.fit(X, y)\n",
    "\n",
    "p = model_rf.predict(test[variables])\n",
    "p = p.astype(int)"
   ]
  },
  {
   "cell_type": "markdown",
   "metadata": {},
   "source": [
    "# 6. Submissão ao Kaggle"
   ]
  },
  {
   "cell_type": "code",
   "execution_count": 95,
   "metadata": {},
   "outputs": [
    {
     "data": {
      "text/plain": [
       "(418,)"
      ]
     },
     "execution_count": 95,
     "metadata": {},
     "output_type": "execute_result"
    }
   ],
   "source": [
    "sub = pd.Series(p, index=test['PassengerId'], name='Survived')\n",
    "sub.shape"
   ]
  },
  {
   "cell_type": "code",
   "execution_count": 96,
   "metadata": {},
   "outputs": [],
   "source": [
    "sub.to_csv('model_with_random_forest.csv', header=True)"
   ]
  },
  {
   "cell_type": "code",
   "execution_count": 97,
   "metadata": {
    "scrolled": false
   },
   "outputs": [
    {
     "name": "stdout",
     "output_type": "stream",
     "text": [
      "PassengerId,Survived\n",
      "892,0\n",
      "893,0\n",
      "894,0\n",
      "895,0\n",
      "896,1\n",
      "897,0\n",
      "898,1\n",
      "899,0\n",
      "900,1\n"
     ]
    }
   ],
   "source": [
    "!head -n10 model_with_random_forest.csv"
   ]
  }
 ],
 "metadata": {
  "kernelspec": {
   "display_name": "Python 3",
   "language": "python",
   "name": "python3"
  },
  "language_info": {
   "codemirror_mode": {
    "name": "ipython",
    "version": 3
   },
   "file_extension": ".py",
   "mimetype": "text/x-python",
   "name": "python",
   "nbconvert_exporter": "python",
   "pygments_lexer": "ipython3",
   "version": "3.7.7"
  }
 },
 "nbformat": 4,
 "nbformat_minor": 4
}
