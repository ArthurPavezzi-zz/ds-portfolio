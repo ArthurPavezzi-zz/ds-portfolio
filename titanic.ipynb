{
 "cells": [
  {
   "cell_type": "markdown",
   "metadata": {},
   "source": [
    "# Titanic: Machine Learning from Disaster\n",
    "\n",
    "[*Clique aqui*](https://www.kaggle.com/c/titanic/) *para o link da competição no [Kaggle](kaggle.com)*\n",
    "\n",
    "---\n",
    "\n",
    "Este é um dos desafios de *Machine Learning* mais famosos, promovida pelo site (kaggle.com)[kaggle.com], uma plataforma de competições de análise preditiva. Sua popularidade fez com que virasse um **Hello, World!** de Ciência de Dados.\n",
    "\n",
    "\n",
    "## 1. Definição do problema \n",
    "\n",
    "Apesar dos sobreviventes contarem com a sorte, alguns fatores influenciaram algumas pessoas a terem mais ou menos chances de sobreviverem, como sexo e idade (\"Mulheres e crianças primeiro!\").\n",
    "\n",
    "\n",
    "### Objetivo\n",
    "\n",
    "O objetivo é prever, com base nos regressores, construir um modelo para prever se a pessoa sobreviveria ou não ao acidente trágico. A pontuação será feita exclusivamente pela acurácia, isto é, pelo percentual de acertos em relação ao total.\n",
    "\n",
    "## 2. Obtenção dos dados\n",
    "\n",
    "Os dados estão disponíveis no Kaggle, e estão divididos em dois grupos:\n",
    "* Dataset de treino (`train.csv`)\n",
    "    * Deve ser usado para criar e treinar o modelo de *Machine Learning*\n",
    "    * Possui como linhas os passageiros do Titanic, e como colunas várias informações sobre cada passageiro\n",
    "    * Diz se a pessoa sobreviveu ou não\n",
    "* Dataset de teste (`test.csv`)\n",
    "    * Deve ser usado como dados nunca vistos pelo modelo\n",
    "    \n",
    "Está disponível também um gabarito de como devem ser feitas as submissões (`gender_submission.csv`). \n",
    "\n",
    "Para baixar os dados, é necessário ter uma conta no Kaggle. Após isso, é só extrair os arquivos na pasta desejada, de preferência uma de fácil acesso."
   ]
  },
  {
   "cell_type": "code",
   "execution_count": 1,
   "metadata": {},
   "outputs": [
    {
     "name": "stdout",
     "output_type": "stream",
     "text": [
      "Populating the interactive namespace from numpy and matplotlib\n"
     ]
    }
   ],
   "source": [
    "# importing libraries\n",
    "import pandas as pd\n",
    "import numpy as np\n",
    "import seaborn as sns\n",
    "import re\n",
    "\n",
    "from sklearn.ensemble import RandomForestClassifier\n",
    "from sklearn.linear_model import LogisticRegression\n",
    "from sklearn.model_selection import RepeatedKFold\n",
    "\n",
    "# ignore warnings\n",
    "import warnings\n",
    "warnings.filterwarnings('ignore')\n",
    "\n",
    "# allow showing all columns\n",
    "pd.options.display.max_columns = None\n",
    "\n",
    "# seed for random states\n",
    "SEED = 357 # inside joke\n",
    "\n",
    "# magical commands for plotting\n",
    "%matplotlib inline\n",
    "%pylab inline"
   ]
  },
  {
   "cell_type": "code",
   "execution_count": 50,
   "metadata": {},
   "outputs": [],
   "source": [
    "train = pd.read_csv('datasets/train.csv')\n",
    "test = pd.read_csv('datasets/test.csv')"
   ]
  },
  {
   "cell_type": "code",
   "execution_count": 3,
   "metadata": {},
   "outputs": [
    {
     "name": "stdout",
     "output_type": "stream",
     "text": [
      "Number of values for training: 891\n"
     ]
    }
   ],
   "source": [
    "print(f\"Number of values for training: {train.shape[0]}\")"
   ]
  },
  {
   "cell_type": "markdown",
   "metadata": {},
   "source": [
    "## 3. Explorando os Dados\n",
    "\n",
    "Serão estuda\n",
    "\n",
    "### Dicionário de Dados\n",
    "\n",
    "* PassengerId: Número de identificação do passageiro\n",
    "* Survived: Informa se o passageiro sobreviveu ao desastre\n",
    "    * 0 = Não\n",
    "    * 1 = Sim\n",
    "* Pclass: Classe do bilhete\n",
    "    * 1 = 1ª Classe\n",
    "    * 2 = 2ª Classe\n",
    "    * 3 = 3ª Classe\n",
    "* Name: Nome do passageiro\n",
    "* Sex: Sexo do passageiro\n",
    "* Age: Idade do passageiro\n",
    "* SibSp: Quantidade de cônjuges e irmãos a bordo\n",
    "* Parch: Quantidade de pais e filhos a bordo\n",
    "* Ticket: Número da passagem\n",
    "* Fare: Preço da Passagem\n",
    "* Cabin: Número da cabine do passageiro\n",
    "* Embarked: Porto no qual o passageiro embarcou\n",
    "    * C = Cherbourg\n",
    "    * Q = Queenstown\n",
    "    * S = Southampton"
   ]
  },
  {
   "cell_type": "code",
   "execution_count": 4,
   "metadata": {},
   "outputs": [],
   "source": [
    "def concat_df(train_data, test_data):\n",
    "    \"\"\"Returns a concatenated DataFrame of training and test set\"\"\"\n",
    "    return pd.concat([train_data, test_data], sort=True).reset_index(drop=True)\n",
    "\n",
    "def divide_df(all_data):\n",
    "    \"\"\"Returns divided DataFrames of training and test set\"\"\"\n",
    "    return all_data.loc[:890], all_data.loc[891:].drop(['Survived'], axis=1)"
   ]
  },
  {
   "cell_type": "code",
   "execution_count": 5,
   "metadata": {
    "scrolled": true
   },
   "outputs": [
    {
     "data": {
      "text/html": [
       "<div>\n",
       "<style scoped>\n",
       "    .dataframe tbody tr th:only-of-type {\n",
       "        vertical-align: middle;\n",
       "    }\n",
       "\n",
       "    .dataframe tbody tr th {\n",
       "        vertical-align: top;\n",
       "    }\n",
       "\n",
       "    .dataframe thead th {\n",
       "        text-align: right;\n",
       "    }\n",
       "</style>\n",
       "<table border=\"1\" class=\"dataframe\">\n",
       "  <thead>\n",
       "    <tr style=\"text-align: right;\">\n",
       "      <th></th>\n",
       "      <th>Age</th>\n",
       "      <th>Cabin</th>\n",
       "      <th>Embarked</th>\n",
       "      <th>Fare</th>\n",
       "      <th>Name</th>\n",
       "      <th>Parch</th>\n",
       "      <th>PassengerId</th>\n",
       "      <th>Pclass</th>\n",
       "      <th>Sex</th>\n",
       "      <th>SibSp</th>\n",
       "      <th>Survived</th>\n",
       "      <th>Ticket</th>\n",
       "    </tr>\n",
       "  </thead>\n",
       "  <tbody>\n",
       "    <tr>\n",
       "      <th>595</th>\n",
       "      <td>36.00</td>\n",
       "      <td>NaN</td>\n",
       "      <td>S</td>\n",
       "      <td>24.1500</td>\n",
       "      <td>Van Impe, Mr. Jean Baptiste</td>\n",
       "      <td>1</td>\n",
       "      <td>596</td>\n",
       "      <td>3</td>\n",
       "      <td>male</td>\n",
       "      <td>1</td>\n",
       "      <td>0.0</td>\n",
       "      <td>345773</td>\n",
       "    </tr>\n",
       "    <tr>\n",
       "      <th>1019</th>\n",
       "      <td>42.00</td>\n",
       "      <td>NaN</td>\n",
       "      <td>S</td>\n",
       "      <td>13.0000</td>\n",
       "      <td>Bowenur, Mr. Solomon</td>\n",
       "      <td>0</td>\n",
       "      <td>1020</td>\n",
       "      <td>2</td>\n",
       "      <td>male</td>\n",
       "      <td>0</td>\n",
       "      <td>NaN</td>\n",
       "      <td>211535</td>\n",
       "    </tr>\n",
       "    <tr>\n",
       "      <th>1079</th>\n",
       "      <td>NaN</td>\n",
       "      <td>NaN</td>\n",
       "      <td>S</td>\n",
       "      <td>69.5500</td>\n",
       "      <td>Sage, Miss. Ada</td>\n",
       "      <td>2</td>\n",
       "      <td>1080</td>\n",
       "      <td>3</td>\n",
       "      <td>female</td>\n",
       "      <td>8</td>\n",
       "      <td>NaN</td>\n",
       "      <td>CA. 2343</td>\n",
       "    </tr>\n",
       "    <tr>\n",
       "      <th>469</th>\n",
       "      <td>0.75</td>\n",
       "      <td>NaN</td>\n",
       "      <td>C</td>\n",
       "      <td>19.2583</td>\n",
       "      <td>Baclini, Miss. Helene Barbara</td>\n",
       "      <td>1</td>\n",
       "      <td>470</td>\n",
       "      <td>3</td>\n",
       "      <td>female</td>\n",
       "      <td>2</td>\n",
       "      <td>1.0</td>\n",
       "      <td>2666</td>\n",
       "    </tr>\n",
       "    <tr>\n",
       "      <th>155</th>\n",
       "      <td>51.00</td>\n",
       "      <td>NaN</td>\n",
       "      <td>C</td>\n",
       "      <td>61.3792</td>\n",
       "      <td>Williams, Mr. Charles Duane</td>\n",
       "      <td>1</td>\n",
       "      <td>156</td>\n",
       "      <td>1</td>\n",
       "      <td>male</td>\n",
       "      <td>0</td>\n",
       "      <td>0.0</td>\n",
       "      <td>PC 17597</td>\n",
       "    </tr>\n",
       "  </tbody>\n",
       "</table>\n",
       "</div>"
      ],
      "text/plain": [
       "        Age Cabin Embarked     Fare                           Name  Parch  \\\n",
       "595   36.00   NaN        S  24.1500    Van Impe, Mr. Jean Baptiste      1   \n",
       "1019  42.00   NaN        S  13.0000           Bowenur, Mr. Solomon      0   \n",
       "1079    NaN   NaN        S  69.5500                Sage, Miss. Ada      2   \n",
       "469    0.75   NaN        C  19.2583  Baclini, Miss. Helene Barbara      1   \n",
       "155   51.00   NaN        C  61.3792    Williams, Mr. Charles Duane      1   \n",
       "\n",
       "      PassengerId  Pclass     Sex  SibSp  Survived    Ticket  \n",
       "595           596       3    male      1       0.0    345773  \n",
       "1019         1020       2    male      0       NaN    211535  \n",
       "1079         1080       3  female      8       NaN  CA. 2343  \n",
       "469           470       3  female      2       1.0      2666  \n",
       "155           156       1    male      0       0.0  PC 17597  "
      ]
     },
     "execution_count": 5,
     "metadata": {},
     "output_type": "execute_result"
    }
   ],
   "source": [
    "df_all = concat_df(train, test)\n",
    "df_all.sample(5)"
   ]
  },
  {
   "cell_type": "code",
   "execution_count": 6,
   "metadata": {},
   "outputs": [
    {
     "name": "stdout",
     "output_type": "stream",
     "text": [
      "<class 'pandas.core.frame.DataFrame'>\n",
      "RangeIndex: 1309 entries, 0 to 1308\n",
      "Data columns (total 12 columns):\n",
      " #   Column       Non-Null Count  Dtype  \n",
      "---  ------       --------------  -----  \n",
      " 0   Age          1046 non-null   float64\n",
      " 1   Cabin        295 non-null    object \n",
      " 2   Embarked     1307 non-null   object \n",
      " 3   Fare         1308 non-null   float64\n",
      " 4   Name         1309 non-null   object \n",
      " 5   Parch        1309 non-null   int64  \n",
      " 6   PassengerId  1309 non-null   int64  \n",
      " 7   Pclass       1309 non-null   int64  \n",
      " 8   Sex          1309 non-null   object \n",
      " 9   SibSp        1309 non-null   int64  \n",
      " 10  Survived     891 non-null    float64\n",
      " 11  Ticket       1309 non-null   object \n",
      "dtypes: float64(3), int64(4), object(5)\n",
      "memory usage: 122.8+ KB\n"
     ]
    }
   ],
   "source": [
    "df_all.info()"
   ]
  },
  {
   "cell_type": "code",
   "execution_count": 7,
   "metadata": {
    "scrolled": true
   },
   "outputs": [
    {
     "name": "stdout",
     "output_type": "stream",
     "text": [
      "Missing values in set:\n",
      "\tAge column missing values: 263\n",
      "\tCabin column missing values: 1014\n",
      "\tEmbarked column missing values: 2\n",
      "\tFare column missing values: 1\n",
      "\tName column missing values: 0\n",
      "\tParch column missing values: 0\n",
      "\tPassengerId column missing values: 0\n",
      "\tPclass column missing values: 0\n",
      "\tSex column missing values: 0\n",
      "\tSibSp column missing values: 0\n",
      "\tSurvived column missing values: 418\n",
      "\tTicket column missing values: 0\n"
     ]
    }
   ],
   "source": [
    "def display_missing(df):\n",
    "    \"\"\"Displays missing value for each column of the DataFrame\"\"\"\n",
    "    for col in df.columns.tolist():          \n",
    "        print(f'\\t{col} column missing values: {df[col].isnull().sum()}')\n",
    "        \n",
    "        \n",
    "print('Missing values in set:')\n",
    "display_missing(df_all)"
   ]
  },
  {
   "cell_type": "code",
   "execution_count": 8,
   "metadata": {},
   "outputs": [
    {
     "data": {
      "text/plain": [
       "Cabin          0.774637\n",
       "Survived       0.319328\n",
       "Age            0.200917\n",
       "Embarked       0.001528\n",
       "Fare           0.000764\n",
       "Ticket         0.000000\n",
       "SibSp          0.000000\n",
       "Sex            0.000000\n",
       "Pclass         0.000000\n",
       "PassengerId    0.000000\n",
       "Parch          0.000000\n",
       "Name           0.000000\n",
       "dtype: float64"
      ]
     },
     "execution_count": 8,
     "metadata": {},
     "output_type": "execute_result"
    }
   ],
   "source": [
    "(df_all.isnull().sum() / df_all.shape[0]).sort_values(ascending=False)"
   ]
  },
  {
   "cell_type": "code",
   "execution_count": 11,
   "metadata": {},
   "outputs": [
    {
     "data": {
      "text/html": [
       "<div>\n",
       "<style scoped>\n",
       "    .dataframe tbody tr th:only-of-type {\n",
       "        vertical-align: middle;\n",
       "    }\n",
       "\n",
       "    .dataframe tbody tr th {\n",
       "        vertical-align: top;\n",
       "    }\n",
       "\n",
       "    .dataframe thead th {\n",
       "        text-align: right;\n",
       "    }\n",
       "</style>\n",
       "<table border=\"1\" class=\"dataframe\">\n",
       "  <thead>\n",
       "    <tr style=\"text-align: right;\">\n",
       "      <th></th>\n",
       "      <th>Age</th>\n",
       "      <th>Fare</th>\n",
       "      <th>Parch</th>\n",
       "      <th>PassengerId</th>\n",
       "      <th>Pclass</th>\n",
       "      <th>SibSp</th>\n",
       "      <th>Survived</th>\n",
       "    </tr>\n",
       "  </thead>\n",
       "  <tbody>\n",
       "    <tr>\n",
       "      <th>count</th>\n",
       "      <td>1046.000000</td>\n",
       "      <td>1308.000000</td>\n",
       "      <td>1309.000000</td>\n",
       "      <td>1309.000000</td>\n",
       "      <td>1309.000000</td>\n",
       "      <td>1309.000000</td>\n",
       "      <td>891.000000</td>\n",
       "    </tr>\n",
       "    <tr>\n",
       "      <th>mean</th>\n",
       "      <td>29.881138</td>\n",
       "      <td>33.295479</td>\n",
       "      <td>0.385027</td>\n",
       "      <td>655.000000</td>\n",
       "      <td>2.294882</td>\n",
       "      <td>0.498854</td>\n",
       "      <td>0.383838</td>\n",
       "    </tr>\n",
       "    <tr>\n",
       "      <th>std</th>\n",
       "      <td>14.413493</td>\n",
       "      <td>51.758668</td>\n",
       "      <td>0.865560</td>\n",
       "      <td>378.020061</td>\n",
       "      <td>0.837836</td>\n",
       "      <td>1.041658</td>\n",
       "      <td>0.486592</td>\n",
       "    </tr>\n",
       "    <tr>\n",
       "      <th>min</th>\n",
       "      <td>0.170000</td>\n",
       "      <td>0.000000</td>\n",
       "      <td>0.000000</td>\n",
       "      <td>1.000000</td>\n",
       "      <td>1.000000</td>\n",
       "      <td>0.000000</td>\n",
       "      <td>0.000000</td>\n",
       "    </tr>\n",
       "    <tr>\n",
       "      <th>25%</th>\n",
       "      <td>21.000000</td>\n",
       "      <td>7.895800</td>\n",
       "      <td>0.000000</td>\n",
       "      <td>328.000000</td>\n",
       "      <td>2.000000</td>\n",
       "      <td>0.000000</td>\n",
       "      <td>0.000000</td>\n",
       "    </tr>\n",
       "    <tr>\n",
       "      <th>50%</th>\n",
       "      <td>28.000000</td>\n",
       "      <td>14.454200</td>\n",
       "      <td>0.000000</td>\n",
       "      <td>655.000000</td>\n",
       "      <td>3.000000</td>\n",
       "      <td>0.000000</td>\n",
       "      <td>0.000000</td>\n",
       "    </tr>\n",
       "    <tr>\n",
       "      <th>75%</th>\n",
       "      <td>39.000000</td>\n",
       "      <td>31.275000</td>\n",
       "      <td>0.000000</td>\n",
       "      <td>982.000000</td>\n",
       "      <td>3.000000</td>\n",
       "      <td>1.000000</td>\n",
       "      <td>1.000000</td>\n",
       "    </tr>\n",
       "    <tr>\n",
       "      <th>max</th>\n",
       "      <td>80.000000</td>\n",
       "      <td>512.329200</td>\n",
       "      <td>9.000000</td>\n",
       "      <td>1309.000000</td>\n",
       "      <td>3.000000</td>\n",
       "      <td>8.000000</td>\n",
       "      <td>1.000000</td>\n",
       "    </tr>\n",
       "  </tbody>\n",
       "</table>\n",
       "</div>"
      ],
      "text/plain": [
       "               Age         Fare        Parch  PassengerId       Pclass  \\\n",
       "count  1046.000000  1308.000000  1309.000000  1309.000000  1309.000000   \n",
       "mean     29.881138    33.295479     0.385027   655.000000     2.294882   \n",
       "std      14.413493    51.758668     0.865560   378.020061     0.837836   \n",
       "min       0.170000     0.000000     0.000000     1.000000     1.000000   \n",
       "25%      21.000000     7.895800     0.000000   328.000000     2.000000   \n",
       "50%      28.000000    14.454200     0.000000   655.000000     3.000000   \n",
       "75%      39.000000    31.275000     0.000000   982.000000     3.000000   \n",
       "max      80.000000   512.329200     9.000000  1309.000000     3.000000   \n",
       "\n",
       "             SibSp    Survived  \n",
       "count  1309.000000  891.000000  \n",
       "mean      0.498854    0.383838  \n",
       "std       1.041658    0.486592  \n",
       "min       0.000000    0.000000  \n",
       "25%       0.000000    0.000000  \n",
       "50%       0.000000    0.000000  \n",
       "75%       1.000000    1.000000  \n",
       "max       8.000000    1.000000  "
      ]
     },
     "execution_count": 11,
     "metadata": {},
     "output_type": "execute_result"
    }
   ],
   "source": [
    "df_all.describe()"
   ]
  },
  {
   "cell_type": "code",
   "execution_count": 16,
   "metadata": {},
   "outputs": [
    {
     "data": {
      "image/png": "[encoded data removed]",
      "text/plain": [
       "<Figure size 432x288 with 1 Axes>"
      ]
     },
     "metadata": {
      "needs_background": "light"
     },
     "output_type": "display_data"
    }
   ],
   "source": [
    "sns.barplot(df_all['Pclass'].unique().astype(str),\n",
    "            df_all.groupby(['Pclass'])['Survived'].mean())\n",
    "plt.xlabel(\"Classe\")\n",
    "plt.ylabel(\"Taxa de sobreviventes\")\n",
    "plt.title(\"Taxa de sobreviventes por classe\")\n",
    "plt.show()"
   ]
  },
  {
   "cell_type": "markdown",
   "metadata": {},
   "source": [
    "## 4. Preparação dos dados\n",
    "\n",
    "### Preenchendo NAs\n",
    "\n",
    "Como o sexo e a classe parecem ser variáveis importantes, preencheremos os *NA*s de idade com a mediana de cada sexo de acordo com a sua classe no navio."
   ]
  },
  {
   "cell_type": "code",
   "execution_count": 20,
   "metadata": {},
   "outputs": [
    {
     "name": "stdout",
     "output_type": "stream",
     "text": [
      "Median age of Pclass 1 females: 36.0\n",
      "Median age of Pclass 1 males: 42.0\n",
      "Median age of Pclass 2 females: 28.0\n",
      "Median age of Pclass 2 males: 29.5\n",
      "Median age of Pclass 3 females: 22.0\n",
      "Median age of Pclass 3 males: 25.0\n",
      "Median age of all passengers: 28.0\n"
     ]
    }
   ],
   "source": [
    "age_by_pclass_sex = df_all.groupby(['Sex', 'Pclass']).median()['Age']\n",
    "\n",
    "for pclass in range(1, 4):\n",
    "    for sex in ['female', 'male']:\n",
    "        print(f'Median age of Pclass {pclass} {sex}s: {age_by_pclass_sex[sex][pclass]}')\n",
    "print(f'Median age of all passengers: {df_all[\"Age\"].median()}')\n",
    "\n",
    "# Filling the missing values in Age with the medians of Sex and Pclass groups\n",
    "df_all['Age'] = df_all.groupby(['Sex', 'Pclass'])['Age'].apply(lambda x: x.fillna(x.median()))"
   ]
  },
  {
   "cell_type": "markdown",
   "metadata": {},
   "source": [
    "O padrão para variáveis categóricas é preencher os *NA*s com a moda, isto é, o valor mais comum dos dados."
   ]
  },
  {
   "cell_type": "code",
   "execution_count": 21,
   "metadata": {},
   "outputs": [
    {
     "data": {
      "text/html": [
       "<div>\n",
       "<style scoped>\n",
       "    .dataframe tbody tr th:only-of-type {\n",
       "        vertical-align: middle;\n",
       "    }\n",
       "\n",
       "    .dataframe tbody tr th {\n",
       "        vertical-align: top;\n",
       "    }\n",
       "\n",
       "    .dataframe thead th {\n",
       "        text-align: right;\n",
       "    }\n",
       "</style>\n",
       "<table border=\"1\" class=\"dataframe\">\n",
       "  <thead>\n",
       "    <tr style=\"text-align: right;\">\n",
       "      <th></th>\n",
       "      <th>Age</th>\n",
       "      <th>Cabin</th>\n",
       "      <th>Embarked</th>\n",
       "      <th>Fare</th>\n",
       "      <th>Name</th>\n",
       "      <th>Parch</th>\n",
       "      <th>PassengerId</th>\n",
       "      <th>Pclass</th>\n",
       "      <th>Sex</th>\n",
       "      <th>SibSp</th>\n",
       "      <th>Survived</th>\n",
       "      <th>Ticket</th>\n",
       "    </tr>\n",
       "  </thead>\n",
       "  <tbody>\n",
       "    <tr>\n",
       "      <th>61</th>\n",
       "      <td>38.0</td>\n",
       "      <td>B28</td>\n",
       "      <td>NaN</td>\n",
       "      <td>80.0</td>\n",
       "      <td>Icard, Miss. Amelie</td>\n",
       "      <td>0</td>\n",
       "      <td>62</td>\n",
       "      <td>1</td>\n",
       "      <td>female</td>\n",
       "      <td>0</td>\n",
       "      <td>1.0</td>\n",
       "      <td>113572</td>\n",
       "    </tr>\n",
       "    <tr>\n",
       "      <th>829</th>\n",
       "      <td>62.0</td>\n",
       "      <td>B28</td>\n",
       "      <td>NaN</td>\n",
       "      <td>80.0</td>\n",
       "      <td>Stone, Mrs. George Nelson (Martha Evelyn)</td>\n",
       "      <td>0</td>\n",
       "      <td>830</td>\n",
       "      <td>1</td>\n",
       "      <td>female</td>\n",
       "      <td>0</td>\n",
       "      <td>1.0</td>\n",
       "      <td>113572</td>\n",
       "    </tr>\n",
       "  </tbody>\n",
       "</table>\n",
       "</div>"
      ],
      "text/plain": [
       "      Age Cabin Embarked  Fare                                       Name  \\\n",
       "61   38.0   B28      NaN  80.0                        Icard, Miss. Amelie   \n",
       "829  62.0   B28      NaN  80.0  Stone, Mrs. George Nelson (Martha Evelyn)   \n",
       "\n",
       "     Parch  PassengerId  Pclass     Sex  SibSp  Survived  Ticket  \n",
       "61       0           62       1  female      0       1.0  113572  \n",
       "829      0          830       1  female      0       1.0  113572  "
      ]
     },
     "execution_count": 21,
     "metadata": {},
     "output_type": "execute_result"
    }
   ],
   "source": [
    "df_all[df_all['Embarked'].isnull()]"
   ]
  },
  {
   "cell_type": "code",
   "execution_count": 22,
   "metadata": {},
   "outputs": [
    {
     "name": "stdout",
     "output_type": "stream",
     "text": [
      "The mode, i.e. the most common value, in \"Embaked\", is S\n"
     ]
    }
   ],
   "source": [
    "# Filling the missing values in Embarked with the mode\n",
    "mode_embarked = df_all['Embarked'].mode().values[0]\n",
    "print(f'The mode, i.e. the most common value, in \"Embaked\", is {mode_embarked}')\n",
    "df_all['Embarked'].fillna(mode_embarked, inplace=True)"
   ]
  },
  {
   "cell_type": "markdown",
   "metadata": {},
   "source": [
    "Preencheremos o valor do bilhete com o preço mediano para homens solteiros desacompanhados da 3ª classe"
   ]
  },
  {
   "cell_type": "code",
   "execution_count": 23,
   "metadata": {
    "scrolled": true
   },
   "outputs": [
    {
     "data": {
      "text/html": [
       "<div>\n",
       "<style scoped>\n",
       "    .dataframe tbody tr th:only-of-type {\n",
       "        vertical-align: middle;\n",
       "    }\n",
       "\n",
       "    .dataframe tbody tr th {\n",
       "        vertical-align: top;\n",
       "    }\n",
       "\n",
       "    .dataframe thead th {\n",
       "        text-align: right;\n",
       "    }\n",
       "</style>\n",
       "<table border=\"1\" class=\"dataframe\">\n",
       "  <thead>\n",
       "    <tr style=\"text-align: right;\">\n",
       "      <th></th>\n",
       "      <th>Age</th>\n",
       "      <th>Cabin</th>\n",
       "      <th>Embarked</th>\n",
       "      <th>Fare</th>\n",
       "      <th>Name</th>\n",
       "      <th>Parch</th>\n",
       "      <th>PassengerId</th>\n",
       "      <th>Pclass</th>\n",
       "      <th>Sex</th>\n",
       "      <th>SibSp</th>\n",
       "      <th>Survived</th>\n",
       "      <th>Ticket</th>\n",
       "    </tr>\n",
       "  </thead>\n",
       "  <tbody>\n",
       "    <tr>\n",
       "      <th>1043</th>\n",
       "      <td>60.5</td>\n",
       "      <td>NaN</td>\n",
       "      <td>S</td>\n",
       "      <td>NaN</td>\n",
       "      <td>Storey, Mr. Thomas</td>\n",
       "      <td>0</td>\n",
       "      <td>1044</td>\n",
       "      <td>3</td>\n",
       "      <td>male</td>\n",
       "      <td>0</td>\n",
       "      <td>NaN</td>\n",
       "      <td>3701</td>\n",
       "    </tr>\n",
       "  </tbody>\n",
       "</table>\n",
       "</div>"
      ],
      "text/plain": [
       "       Age Cabin Embarked  Fare                Name  Parch  PassengerId  \\\n",
       "1043  60.5   NaN        S   NaN  Storey, Mr. Thomas      0         1044   \n",
       "\n",
       "      Pclass   Sex  SibSp  Survived Ticket  \n",
       "1043       3  male      0       NaN   3701  "
      ]
     },
     "execution_count": 23,
     "metadata": {},
     "output_type": "execute_result"
    }
   ],
   "source": [
    "df_all[df_all['Fare'].isnull()]"
   ]
  },
  {
   "cell_type": "code",
   "execution_count": 24,
   "metadata": {},
   "outputs": [
    {
     "name": "stdout",
     "output_type": "stream",
     "text": [
      "Median fare paid by lone travelers of 3rd class: 7.8542\n"
     ]
    }
   ],
   "source": [
    "med_fare = df_all.groupby(['Pclass', 'Parch', 'SibSp']).Fare.median()[3][0][0]\n",
    "\n",
    "df_all['Fare'].fillna(med_fare, inplace=True)\n",
    "\n",
    "print(f\"Median fare paid by lone travelers of 3rd class: {med_fare}\")"
   ]
  },
  {
   "cell_type": "code",
   "execution_count": 25,
   "metadata": {
    "scrolled": true
   },
   "outputs": [
    {
     "data": {
      "text/plain": [
       "Age            False\n",
       "Cabin           True\n",
       "Embarked       False\n",
       "Fare           False\n",
       "Name           False\n",
       "Parch          False\n",
       "PassengerId    False\n",
       "Pclass         False\n",
       "Sex            False\n",
       "SibSp          False\n",
       "Survived        True\n",
       "Ticket         False\n",
       "dtype: bool"
      ]
     },
     "execution_count": 25,
     "metadata": {},
     "output_type": "execute_result"
    }
   ],
   "source": [
    "df_all.isnull().any()"
   ]
  },
  {
   "cell_type": "markdown",
   "metadata": {},
   "source": [
    "Não iremos preencher os *NA*s nas cabines pois estes dados não nos interessam para esta análise\n",
    "\n",
    "### Porto de embarque\n",
    "\n",
    "Conforme vemos acima, o local de embarque parece um aspecto importante para a sobrevivência dos passageiros. Como os algoritmos apenas suportam valores numéricos, vamos então criar variáveis *dummy*. O que são variáveis *dummy*? São variáveis que utilizam apenas um valor de $0$ ou $1$ para indicar se é ou não alguma coisa. Exemplificando, a variável *dummy* (ou binária) ```Embarked_S``` terá valor 1 se o passageiro embarcou ou Southampton e valor 0 caso se embarcou em outro porto. \n",
    "\n",
    "O problema é que, quando geramos $n$ variáveis binárias para $n$ categorias geramos uma multicolinearidade entre os regressores. Para evitar isso, podemos gerar apenas $n-1$ variáveis, com a última sendo implícita."
   ]
  },
  {
   "cell_type": "code",
   "execution_count": 26,
   "metadata": {
    "scrolled": true
   },
   "outputs": [
    {
     "data": {
      "text/html": [
       "<div>\n",
       "<style scoped>\n",
       "    .dataframe tbody tr th:only-of-type {\n",
       "        vertical-align: middle;\n",
       "    }\n",
       "\n",
       "    .dataframe tbody tr th {\n",
       "        vertical-align: top;\n",
       "    }\n",
       "\n",
       "    .dataframe thead th {\n",
       "        text-align: right;\n",
       "    }\n",
       "</style>\n",
       "<table border=\"1\" class=\"dataframe\">\n",
       "  <thead>\n",
       "    <tr style=\"text-align: right;\">\n",
       "      <th></th>\n",
       "      <th>Age</th>\n",
       "      <th>Cabin</th>\n",
       "      <th>Embarked</th>\n",
       "      <th>Fare</th>\n",
       "      <th>Name</th>\n",
       "      <th>Parch</th>\n",
       "      <th>PassengerId</th>\n",
       "      <th>Pclass</th>\n",
       "      <th>Sex</th>\n",
       "      <th>SibSp</th>\n",
       "      <th>Survived</th>\n",
       "      <th>Ticket</th>\n",
       "      <th>Embarked_S</th>\n",
       "      <th>Embarked_C</th>\n",
       "    </tr>\n",
       "  </thead>\n",
       "  <tbody>\n",
       "    <tr>\n",
       "      <th>358</th>\n",
       "      <td>22.00</td>\n",
       "      <td>NaN</td>\n",
       "      <td>Q</td>\n",
       "      <td>7.8792</td>\n",
       "      <td>McGovern, Miss. Mary</td>\n",
       "      <td>0</td>\n",
       "      <td>359</td>\n",
       "      <td>3</td>\n",
       "      <td>female</td>\n",
       "      <td>0</td>\n",
       "      <td>1.0</td>\n",
       "      <td>330931</td>\n",
       "      <td>0</td>\n",
       "      <td>0</td>\n",
       "    </tr>\n",
       "    <tr>\n",
       "      <th>78</th>\n",
       "      <td>0.83</td>\n",
       "      <td>NaN</td>\n",
       "      <td>S</td>\n",
       "      <td>29.0000</td>\n",
       "      <td>Caldwell, Master. Alden Gates</td>\n",
       "      <td>2</td>\n",
       "      <td>79</td>\n",
       "      <td>2</td>\n",
       "      <td>male</td>\n",
       "      <td>0</td>\n",
       "      <td>1.0</td>\n",
       "      <td>248738</td>\n",
       "      <td>1</td>\n",
       "      <td>0</td>\n",
       "    </tr>\n",
       "    <tr>\n",
       "      <th>298</th>\n",
       "      <td>42.00</td>\n",
       "      <td>C106</td>\n",
       "      <td>S</td>\n",
       "      <td>30.5000</td>\n",
       "      <td>Saalfeld, Mr. Adolphe</td>\n",
       "      <td>0</td>\n",
       "      <td>299</td>\n",
       "      <td>1</td>\n",
       "      <td>male</td>\n",
       "      <td>0</td>\n",
       "      <td>1.0</td>\n",
       "      <td>19988</td>\n",
       "      <td>1</td>\n",
       "      <td>0</td>\n",
       "    </tr>\n",
       "    <tr>\n",
       "      <th>843</th>\n",
       "      <td>34.50</td>\n",
       "      <td>NaN</td>\n",
       "      <td>C</td>\n",
       "      <td>6.4375</td>\n",
       "      <td>Lemberopolous, Mr. Peter L</td>\n",
       "      <td>0</td>\n",
       "      <td>844</td>\n",
       "      <td>3</td>\n",
       "      <td>male</td>\n",
       "      <td>0</td>\n",
       "      <td>0.0</td>\n",
       "      <td>2683</td>\n",
       "      <td>0</td>\n",
       "      <td>1</td>\n",
       "    </tr>\n",
       "    <tr>\n",
       "      <th>751</th>\n",
       "      <td>6.00</td>\n",
       "      <td>E121</td>\n",
       "      <td>S</td>\n",
       "      <td>12.4750</td>\n",
       "      <td>Moor, Master. Meier</td>\n",
       "      <td>1</td>\n",
       "      <td>752</td>\n",
       "      <td>3</td>\n",
       "      <td>male</td>\n",
       "      <td>0</td>\n",
       "      <td>1.0</td>\n",
       "      <td>392096</td>\n",
       "      <td>1</td>\n",
       "      <td>0</td>\n",
       "    </tr>\n",
       "  </tbody>\n",
       "</table>\n",
       "</div>"
      ],
      "text/plain": [
       "       Age Cabin Embarked     Fare                           Name  Parch  \\\n",
       "358  22.00   NaN        Q   7.8792           McGovern, Miss. Mary      0   \n",
       "78    0.83   NaN        S  29.0000  Caldwell, Master. Alden Gates      2   \n",
       "298  42.00  C106        S  30.5000          Saalfeld, Mr. Adolphe      0   \n",
       "843  34.50   NaN        C   6.4375     Lemberopolous, Mr. Peter L      0   \n",
       "751   6.00  E121        S  12.4750            Moor, Master. Meier      1   \n",
       "\n",
       "     PassengerId  Pclass     Sex  SibSp  Survived  Ticket  Embarked_S  \\\n",
       "358          359       3  female      0       1.0  330931           0   \n",
       "78            79       2    male      0       1.0  248738           1   \n",
       "298          299       1    male      0       1.0   19988           1   \n",
       "843          844       3    male      0       0.0    2683           0   \n",
       "751          752       3    male      0       1.0  392096           1   \n",
       "\n",
       "     Embarked_C  \n",
       "358           0  \n",
       "78            0  \n",
       "298           0  \n",
       "843           1  \n",
       "751           0  "
      ]
     },
     "execution_count": 26,
     "metadata": {},
     "output_type": "execute_result"
    }
   ],
   "source": [
    "df_all['Embarked_S'] = (df_all['Embarked'] == 'S').astype(int)\n",
    "df_all['Embarked_C'] = (df_all['Embarked'] == 'C').astype(int)\n",
    "\n",
    "df_all.sample(5)"
   ]
  },
  {
   "cell_type": "markdown",
   "metadata": {},
   "source": [
    "### Sexo\n",
    "\n",
    "Iremos gerar uma variável binária de forma similar ao que fizemos com o porto de embarque"
   ]
  },
  {
   "cell_type": "code",
   "execution_count": 27,
   "metadata": {},
   "outputs": [],
   "source": [
    "def transform_sex(valor):\n",
    "    \"\"\"changes categorical value of sex to a binary numerical value of sex\"\"\"\n",
    "    return 1 if valor == 'female' else 0"
   ]
  },
  {
   "cell_type": "code",
   "execution_count": 28,
   "metadata": {},
   "outputs": [],
   "source": [
    "df_all['Sex_binary'] = df_all['Sex'].map(transform_sex)"
   ]
  },
  {
   "cell_type": "markdown",
   "metadata": {},
   "source": [
    "### Títulos\n",
    "\n",
    "Haviam a bordo militares, nobres, senhoras e senhores. Os seus títulos estão junto com os seus nomes. Podemos verificar qual a frequência dos títulos utilizando **expressões regulares**."
   ]
  },
  {
   "cell_type": "code",
   "execution_count": 29,
   "metadata": {
    "scrolled": true
   },
   "outputs": [
    {
     "data": {
      "text/html": [
       "<div>\n",
       "<style scoped>\n",
       "    .dataframe tbody tr th:only-of-type {\n",
       "        vertical-align: middle;\n",
       "    }\n",
       "\n",
       "    .dataframe tbody tr th {\n",
       "        vertical-align: top;\n",
       "    }\n",
       "\n",
       "    .dataframe thead th {\n",
       "        text-align: right;\n",
       "    }\n",
       "</style>\n",
       "<table border=\"1\" class=\"dataframe\">\n",
       "  <thead>\n",
       "    <tr style=\"text-align: right;\">\n",
       "      <th></th>\n",
       "      <th>Age</th>\n",
       "      <th>Cabin</th>\n",
       "      <th>Embarked</th>\n",
       "      <th>Fare</th>\n",
       "      <th>Name</th>\n",
       "      <th>Parch</th>\n",
       "      <th>PassengerId</th>\n",
       "      <th>Pclass</th>\n",
       "      <th>Sex</th>\n",
       "      <th>SibSp</th>\n",
       "      <th>Survived</th>\n",
       "      <th>Ticket</th>\n",
       "      <th>Embarked_S</th>\n",
       "      <th>Embarked_C</th>\n",
       "      <th>Sex_binary</th>\n",
       "      <th>Titles</th>\n",
       "    </tr>\n",
       "  </thead>\n",
       "  <tbody>\n",
       "    <tr>\n",
       "      <th>735</th>\n",
       "      <td>28.5</td>\n",
       "      <td>NaN</td>\n",
       "      <td>S</td>\n",
       "      <td>16.1000</td>\n",
       "      <td>Williams, Mr. Leslie</td>\n",
       "      <td>0</td>\n",
       "      <td>736</td>\n",
       "      <td>3</td>\n",
       "      <td>male</td>\n",
       "      <td>0</td>\n",
       "      <td>0.0</td>\n",
       "      <td>54636</td>\n",
       "      <td>1</td>\n",
       "      <td>0</td>\n",
       "      <td>0</td>\n",
       "      <td>Mr</td>\n",
       "    </tr>\n",
       "    <tr>\n",
       "      <th>966</th>\n",
       "      <td>32.5</td>\n",
       "      <td>C132</td>\n",
       "      <td>C</td>\n",
       "      <td>211.5000</td>\n",
       "      <td>Keeping, Mr. Edwin</td>\n",
       "      <td>0</td>\n",
       "      <td>967</td>\n",
       "      <td>1</td>\n",
       "      <td>male</td>\n",
       "      <td>0</td>\n",
       "      <td>NaN</td>\n",
       "      <td>113503</td>\n",
       "      <td>0</td>\n",
       "      <td>1</td>\n",
       "      <td>0</td>\n",
       "      <td>Mr</td>\n",
       "    </tr>\n",
       "    <tr>\n",
       "      <th>789</th>\n",
       "      <td>46.0</td>\n",
       "      <td>B82 B84</td>\n",
       "      <td>C</td>\n",
       "      <td>79.2000</td>\n",
       "      <td>Guggenheim, Mr. Benjamin</td>\n",
       "      <td>0</td>\n",
       "      <td>790</td>\n",
       "      <td>1</td>\n",
       "      <td>male</td>\n",
       "      <td>0</td>\n",
       "      <td>0.0</td>\n",
       "      <td>PC 17593</td>\n",
       "      <td>0</td>\n",
       "      <td>1</td>\n",
       "      <td>0</td>\n",
       "      <td>Mr</td>\n",
       "    </tr>\n",
       "    <tr>\n",
       "      <th>279</th>\n",
       "      <td>35.0</td>\n",
       "      <td>NaN</td>\n",
       "      <td>S</td>\n",
       "      <td>20.2500</td>\n",
       "      <td>Abbott, Mrs. Stanton (Rosa Hunt)</td>\n",
       "      <td>1</td>\n",
       "      <td>280</td>\n",
       "      <td>3</td>\n",
       "      <td>female</td>\n",
       "      <td>1</td>\n",
       "      <td>1.0</td>\n",
       "      <td>C.A. 2673</td>\n",
       "      <td>1</td>\n",
       "      <td>0</td>\n",
       "      <td>1</td>\n",
       "      <td>Mrs</td>\n",
       "    </tr>\n",
       "    <tr>\n",
       "      <th>558</th>\n",
       "      <td>39.0</td>\n",
       "      <td>E67</td>\n",
       "      <td>S</td>\n",
       "      <td>79.6500</td>\n",
       "      <td>Taussig, Mrs. Emil (Tillie Mandelbaum)</td>\n",
       "      <td>1</td>\n",
       "      <td>559</td>\n",
       "      <td>1</td>\n",
       "      <td>female</td>\n",
       "      <td>1</td>\n",
       "      <td>1.0</td>\n",
       "      <td>110413</td>\n",
       "      <td>1</td>\n",
       "      <td>0</td>\n",
       "      <td>1</td>\n",
       "      <td>Mrs</td>\n",
       "    </tr>\n",
       "    <tr>\n",
       "      <th>316</th>\n",
       "      <td>24.0</td>\n",
       "      <td>NaN</td>\n",
       "      <td>S</td>\n",
       "      <td>26.0000</td>\n",
       "      <td>Kantor, Mrs. Sinai (Miriam Sternin)</td>\n",
       "      <td>0</td>\n",
       "      <td>317</td>\n",
       "      <td>2</td>\n",
       "      <td>female</td>\n",
       "      <td>1</td>\n",
       "      <td>1.0</td>\n",
       "      <td>244367</td>\n",
       "      <td>1</td>\n",
       "      <td>0</td>\n",
       "      <td>1</td>\n",
       "      <td>Mrs</td>\n",
       "    </tr>\n",
       "    <tr>\n",
       "      <th>561</th>\n",
       "      <td>40.0</td>\n",
       "      <td>NaN</td>\n",
       "      <td>S</td>\n",
       "      <td>7.8958</td>\n",
       "      <td>Sivic, Mr. Husein</td>\n",
       "      <td>0</td>\n",
       "      <td>562</td>\n",
       "      <td>3</td>\n",
       "      <td>male</td>\n",
       "      <td>0</td>\n",
       "      <td>0.0</td>\n",
       "      <td>349251</td>\n",
       "      <td>1</td>\n",
       "      <td>0</td>\n",
       "      <td>0</td>\n",
       "      <td>Mr</td>\n",
       "    </tr>\n",
       "    <tr>\n",
       "      <th>339</th>\n",
       "      <td>45.0</td>\n",
       "      <td>T</td>\n",
       "      <td>S</td>\n",
       "      <td>35.5000</td>\n",
       "      <td>Blackwell, Mr. Stephen Weart</td>\n",
       "      <td>0</td>\n",
       "      <td>340</td>\n",
       "      <td>1</td>\n",
       "      <td>male</td>\n",
       "      <td>0</td>\n",
       "      <td>0.0</td>\n",
       "      <td>113784</td>\n",
       "      <td>1</td>\n",
       "      <td>0</td>\n",
       "      <td>0</td>\n",
       "      <td>Mr</td>\n",
       "    </tr>\n",
       "    <tr>\n",
       "      <th>154</th>\n",
       "      <td>25.0</td>\n",
       "      <td>NaN</td>\n",
       "      <td>S</td>\n",
       "      <td>7.3125</td>\n",
       "      <td>Olsen, Mr. Ole Martin</td>\n",
       "      <td>0</td>\n",
       "      <td>155</td>\n",
       "      <td>3</td>\n",
       "      <td>male</td>\n",
       "      <td>0</td>\n",
       "      <td>0.0</td>\n",
       "      <td>Fa 265302</td>\n",
       "      <td>1</td>\n",
       "      <td>0</td>\n",
       "      <td>0</td>\n",
       "      <td>Mr</td>\n",
       "    </tr>\n",
       "    <tr>\n",
       "      <th>519</th>\n",
       "      <td>32.0</td>\n",
       "      <td>NaN</td>\n",
       "      <td>S</td>\n",
       "      <td>7.8958</td>\n",
       "      <td>Pavlovic, Mr. Stefo</td>\n",
       "      <td>0</td>\n",
       "      <td>520</td>\n",
       "      <td>3</td>\n",
       "      <td>male</td>\n",
       "      <td>0</td>\n",
       "      <td>0.0</td>\n",
       "      <td>349242</td>\n",
       "      <td>1</td>\n",
       "      <td>0</td>\n",
       "      <td>0</td>\n",
       "      <td>Mr</td>\n",
       "    </tr>\n",
       "  </tbody>\n",
       "</table>\n",
       "</div>"
      ],
      "text/plain": [
       "      Age    Cabin Embarked      Fare                                    Name  \\\n",
       "735  28.5      NaN        S   16.1000                    Williams, Mr. Leslie   \n",
       "966  32.5     C132        C  211.5000                      Keeping, Mr. Edwin   \n",
       "789  46.0  B82 B84        C   79.2000                Guggenheim, Mr. Benjamin   \n",
       "279  35.0      NaN        S   20.2500        Abbott, Mrs. Stanton (Rosa Hunt)   \n",
       "558  39.0      E67        S   79.6500  Taussig, Mrs. Emil (Tillie Mandelbaum)   \n",
       "316  24.0      NaN        S   26.0000     Kantor, Mrs. Sinai (Miriam Sternin)   \n",
       "561  40.0      NaN        S    7.8958                       Sivic, Mr. Husein   \n",
       "339  45.0        T        S   35.5000            Blackwell, Mr. Stephen Weart   \n",
       "154  25.0      NaN        S    7.3125                   Olsen, Mr. Ole Martin   \n",
       "519  32.0      NaN        S    7.8958                     Pavlovic, Mr. Stefo   \n",
       "\n",
       "     Parch  PassengerId  Pclass     Sex  SibSp  Survived     Ticket  \\\n",
       "735      0          736       3    male      0       0.0      54636   \n",
       "966      0          967       1    male      0       NaN     113503   \n",
       "789      0          790       1    male      0       0.0   PC 17593   \n",
       "279      1          280       3  female      1       1.0  C.A. 2673   \n",
       "558      1          559       1  female      1       1.0     110413   \n",
       "316      0          317       2  female      1       1.0     244367   \n",
       "561      0          562       3    male      0       0.0     349251   \n",
       "339      0          340       1    male      0       0.0     113784   \n",
       "154      0          155       3    male      0       0.0  Fa 265302   \n",
       "519      0          520       3    male      0       0.0     349242   \n",
       "\n",
       "     Embarked_S  Embarked_C  Sex_binary Titles  \n",
       "735           1           0           0     Mr  \n",
       "966           0           1           0     Mr  \n",
       "789           0           1           0     Mr  \n",
       "279           1           0           1    Mrs  \n",
       "558           1           0           1    Mrs  \n",
       "316           1           0           1    Mrs  \n",
       "561           1           0           0     Mr  \n",
       "339           1           0           0     Mr  \n",
       "154           1           0           0     Mr  \n",
       "519           1           0           0     Mr  "
      ]
     },
     "execution_count": 29,
     "metadata": {},
     "output_type": "execute_result"
    }
   ],
   "source": [
    "df_all['Titles'] = df_all['Name'].str.extract(\"([A-z]+)\\\\.\")\n",
    "\n",
    "df_all.sample(10)"
   ]
  },
  {
   "cell_type": "markdown",
   "metadata": {},
   "source": [
    "Funcionou! Agora podemos plotar para verificar a frequência de cada título"
   ]
  },
  {
   "cell_type": "code",
   "execution_count": 30,
   "metadata": {
    "scrolled": false
   },
   "outputs": [
    {
     "data": {
      "text/plain": [
       "<matplotlib.axes._subplots.AxesSubplot at 0x1ba37904d08>"
      ]
     },
     "execution_count": 30,
     "metadata": {},
     "output_type": "execute_result"
    },
    {
     "data": {
      "image/png": "[encoded data removed]",
      "text/plain": [
       "<Figure size 1080x432 with 1 Axes>"
      ]
     },
     "metadata": {
      "needs_background": "light"
     },
     "output_type": "display_data"
    }
   ],
   "source": [
    "fig, ax = plt.subplots(figsize=(15, 6))\n",
    "\n",
    "df_all['Titles'].value_counts().plot(ax=ax, kind='bar')"
   ]
  },
  {
   "cell_type": "markdown",
   "metadata": {},
   "source": [
    "Podemos agrupar estes vários títulos menores. \n",
    "\n",
    "*Capt* e *Col* são abreviações de Capitão e Coronel. Podemos juntá-los com Major sob o título 'Militar'.\n",
    "\n",
    "Quanto aos títulos femininos, *Mlle* é a versão francesa de *Miss*, que é aplicado a mulheres solteiras, ao passo que *Mme*, também francês e quivalente a *Mrs*, é aplicado a mulheres casadas. Já *Ms* não indica estado civil, e devido à sua baixa ocorrência seria interessante agrupá-lo em alguma categoria mais frequente. Vejamos:"
   ]
  },
  {
   "cell_type": "code",
   "execution_count": 31,
   "metadata": {},
   "outputs": [
    {
     "data": {
      "text/html": [
       "<div>\n",
       "<style scoped>\n",
       "    .dataframe tbody tr th:only-of-type {\n",
       "        vertical-align: middle;\n",
       "    }\n",
       "\n",
       "    .dataframe tbody tr th {\n",
       "        vertical-align: top;\n",
       "    }\n",
       "\n",
       "    .dataframe thead th {\n",
       "        text-align: right;\n",
       "    }\n",
       "</style>\n",
       "<table border=\"1\" class=\"dataframe\">\n",
       "  <thead>\n",
       "    <tr style=\"text-align: right;\">\n",
       "      <th></th>\n",
       "      <th>Age</th>\n",
       "      <th>Cabin</th>\n",
       "      <th>Embarked</th>\n",
       "      <th>Fare</th>\n",
       "      <th>Name</th>\n",
       "      <th>Parch</th>\n",
       "      <th>PassengerId</th>\n",
       "      <th>Pclass</th>\n",
       "      <th>Sex</th>\n",
       "      <th>SibSp</th>\n",
       "      <th>Survived</th>\n",
       "      <th>Ticket</th>\n",
       "      <th>Embarked_S</th>\n",
       "      <th>Embarked_C</th>\n",
       "      <th>Sex_binary</th>\n",
       "      <th>Titles</th>\n",
       "    </tr>\n",
       "  </thead>\n",
       "  <tbody>\n",
       "    <tr>\n",
       "      <th>443</th>\n",
       "      <td>28.0</td>\n",
       "      <td>NaN</td>\n",
       "      <td>S</td>\n",
       "      <td>13.00</td>\n",
       "      <td>Reynaldo, Ms. Encarnacion</td>\n",
       "      <td>0</td>\n",
       "      <td>444</td>\n",
       "      <td>2</td>\n",
       "      <td>female</td>\n",
       "      <td>0</td>\n",
       "      <td>1.0</td>\n",
       "      <td>230434</td>\n",
       "      <td>1</td>\n",
       "      <td>0</td>\n",
       "      <td>1</td>\n",
       "      <td>Ms</td>\n",
       "    </tr>\n",
       "    <tr>\n",
       "      <th>979</th>\n",
       "      <td>22.0</td>\n",
       "      <td>NaN</td>\n",
       "      <td>Q</td>\n",
       "      <td>7.75</td>\n",
       "      <td>O'Donoghue, Ms. Bridget</td>\n",
       "      <td>0</td>\n",
       "      <td>980</td>\n",
       "      <td>3</td>\n",
       "      <td>female</td>\n",
       "      <td>0</td>\n",
       "      <td>NaN</td>\n",
       "      <td>364856</td>\n",
       "      <td>0</td>\n",
       "      <td>0</td>\n",
       "      <td>1</td>\n",
       "      <td>Ms</td>\n",
       "    </tr>\n",
       "  </tbody>\n",
       "</table>\n",
       "</div>"
      ],
      "text/plain": [
       "      Age Cabin Embarked   Fare                       Name  Parch  \\\n",
       "443  28.0   NaN        S  13.00  Reynaldo, Ms. Encarnacion      0   \n",
       "979  22.0   NaN        Q   7.75    O'Donoghue, Ms. Bridget      0   \n",
       "\n",
       "     PassengerId  Pclass     Sex  SibSp  Survived  Ticket  Embarked_S  \\\n",
       "443          444       2  female      0       1.0  230434           1   \n",
       "979          980       3  female      0       NaN  364856           0   \n",
       "\n",
       "     Embarked_C  Sex_binary Titles  \n",
       "443           0           1     Ms  \n",
       "979           0           1     Ms  "
      ]
     },
     "execution_count": 31,
     "metadata": {},
     "output_type": "execute_result"
    }
   ],
   "source": [
    "df_all[df_all['Titles'] == 'Ms']"
   ]
  },
  {
   "cell_type": "markdown",
   "metadata": {},
   "source": [
    "Ambas são passageiras sem parentes ou familiares a bordo, então não custa nada assumir que se tratam de duas mulheres solteiras. Podemos, assim, substituir pelo título de *Miss* "
   ]
  },
  {
   "cell_type": "markdown",
   "metadata": {},
   "source": [
    "Por último, *Countess*, *Don*, *Dona*, *Lady*, *Sir* e *Jonkheer* (título da nobreza dos Países Baixos) podem ser agrupados como 'Nobreza'."
   ]
  },
  {
   "cell_type": "code",
   "execution_count": 32,
   "metadata": {},
   "outputs": [],
   "source": [
    "def group_titles(title):\n",
    "    if title in ['Capt', 'Col', 'Major']:\n",
    "        return 'Military'\n",
    "    \n",
    "    elif title in ['Mlle', 'Ms']:\n",
    "        return 'Miss'\n",
    "    \n",
    "    elif title in ['Mme']:\n",
    "        return 'Mrs'\n",
    "    \n",
    "    elif title in [\"Countess\", \"Don\", \"Dona\", \"Lady\", \"Sir\", \"Jonkheer\"]:\n",
    "        return 'Nobility'\n",
    "    else:\n",
    "        return title"
   ]
  },
  {
   "cell_type": "code",
   "execution_count": 33,
   "metadata": {},
   "outputs": [],
   "source": [
    "df_all['Titles'] = df_all['Titles'].map(group_titles)"
   ]
  },
  {
   "cell_type": "code",
   "execution_count": 34,
   "metadata": {
    "scrolled": false
   },
   "outputs": [
    {
     "data": {
      "text/plain": [
       "<matplotlib.axes._subplots.AxesSubplot at 0x1ba37a509c8>"
      ]
     },
     "execution_count": 34,
     "metadata": {},
     "output_type": "execute_result"
    },
    {
     "data": {
      "image/png": "[encoded data removed]",
      "text/plain": [
       "<Figure size 720x504 with 1 Axes>"
      ]
     },
     "metadata": {
      "needs_background": "light"
     },
     "output_type": "display_data"
    }
   ],
   "source": [
    "fig, ax = plt.subplots(figsize=(10, 7))\n",
    "\n",
    "df_all['Titles'].value_counts().plot(ax=ax, kind='bar')"
   ]
  },
  {
   "cell_type": "markdown",
   "metadata": {},
   "source": [
    "Agora só precisamos gerar as variáveis binárias. Existe uma função do Pandas que nos permite fazer isso automaticamente, o ```pd.get_dummies```. Porém, ele gera $n$ variáveis, então iremos excluir a última para evitar multicolinearidade."
   ]
  },
  {
   "cell_type": "code",
   "execution_count": 35,
   "metadata": {},
   "outputs": [
    {
     "data": {
      "text/html": [
       "<div>\n",
       "<style scoped>\n",
       "    .dataframe tbody tr th:only-of-type {\n",
       "        vertical-align: middle;\n",
       "    }\n",
       "\n",
       "    .dataframe tbody tr th {\n",
       "        vertical-align: top;\n",
       "    }\n",
       "\n",
       "    .dataframe thead th {\n",
       "        text-align: right;\n",
       "    }\n",
       "</style>\n",
       "<table border=\"1\" class=\"dataframe\">\n",
       "  <thead>\n",
       "    <tr style=\"text-align: right;\">\n",
       "      <th></th>\n",
       "      <th>Age</th>\n",
       "      <th>Cabin</th>\n",
       "      <th>Embarked</th>\n",
       "      <th>Fare</th>\n",
       "      <th>Name</th>\n",
       "      <th>Parch</th>\n",
       "      <th>PassengerId</th>\n",
       "      <th>Pclass</th>\n",
       "      <th>Sex</th>\n",
       "      <th>SibSp</th>\n",
       "      <th>Survived</th>\n",
       "      <th>Ticket</th>\n",
       "      <th>Embarked_S</th>\n",
       "      <th>Embarked_C</th>\n",
       "      <th>Sex_binary</th>\n",
       "      <th>Titles_Dr</th>\n",
       "      <th>Titles_Master</th>\n",
       "      <th>Titles_Military</th>\n",
       "      <th>Titles_Miss</th>\n",
       "      <th>Titles_Mr</th>\n",
       "      <th>Titles_Mrs</th>\n",
       "      <th>Titles_Nobility</th>\n",
       "    </tr>\n",
       "  </thead>\n",
       "  <tbody>\n",
       "    <tr>\n",
       "      <th>1279</th>\n",
       "      <td>21.0</td>\n",
       "      <td>NaN</td>\n",
       "      <td>Q</td>\n",
       "      <td>7.7500</td>\n",
       "      <td>Canavan, Mr. Patrick</td>\n",
       "      <td>0</td>\n",
       "      <td>1280</td>\n",
       "      <td>3</td>\n",
       "      <td>male</td>\n",
       "      <td>0</td>\n",
       "      <td>NaN</td>\n",
       "      <td>364858</td>\n",
       "      <td>0</td>\n",
       "      <td>0</td>\n",
       "      <td>0</td>\n",
       "      <td>0</td>\n",
       "      <td>0</td>\n",
       "      <td>0</td>\n",
       "      <td>0</td>\n",
       "      <td>1</td>\n",
       "      <td>0</td>\n",
       "      <td>0</td>\n",
       "    </tr>\n",
       "    <tr>\n",
       "      <th>410</th>\n",
       "      <td>25.0</td>\n",
       "      <td>NaN</td>\n",
       "      <td>S</td>\n",
       "      <td>7.8958</td>\n",
       "      <td>Sdycoff, Mr. Todor</td>\n",
       "      <td>0</td>\n",
       "      <td>411</td>\n",
       "      <td>3</td>\n",
       "      <td>male</td>\n",
       "      <td>0</td>\n",
       "      <td>0.0</td>\n",
       "      <td>349222</td>\n",
       "      <td>1</td>\n",
       "      <td>0</td>\n",
       "      <td>0</td>\n",
       "      <td>0</td>\n",
       "      <td>0</td>\n",
       "      <td>0</td>\n",
       "      <td>0</td>\n",
       "      <td>1</td>\n",
       "      <td>0</td>\n",
       "      <td>0</td>\n",
       "    </tr>\n",
       "    <tr>\n",
       "      <th>68</th>\n",
       "      <td>17.0</td>\n",
       "      <td>NaN</td>\n",
       "      <td>S</td>\n",
       "      <td>7.9250</td>\n",
       "      <td>Andersson, Miss. Erna Alexandra</td>\n",
       "      <td>2</td>\n",
       "      <td>69</td>\n",
       "      <td>3</td>\n",
       "      <td>female</td>\n",
       "      <td>4</td>\n",
       "      <td>1.0</td>\n",
       "      <td>3101281</td>\n",
       "      <td>1</td>\n",
       "      <td>0</td>\n",
       "      <td>1</td>\n",
       "      <td>0</td>\n",
       "      <td>0</td>\n",
       "      <td>0</td>\n",
       "      <td>1</td>\n",
       "      <td>0</td>\n",
       "      <td>0</td>\n",
       "      <td>0</td>\n",
       "    </tr>\n",
       "    <tr>\n",
       "      <th>313</th>\n",
       "      <td>28.0</td>\n",
       "      <td>NaN</td>\n",
       "      <td>S</td>\n",
       "      <td>7.8958</td>\n",
       "      <td>Hendekovic, Mr. Ignjac</td>\n",
       "      <td>0</td>\n",
       "      <td>314</td>\n",
       "      <td>3</td>\n",
       "      <td>male</td>\n",
       "      <td>0</td>\n",
       "      <td>0.0</td>\n",
       "      <td>349243</td>\n",
       "      <td>1</td>\n",
       "      <td>0</td>\n",
       "      <td>0</td>\n",
       "      <td>0</td>\n",
       "      <td>0</td>\n",
       "      <td>0</td>\n",
       "      <td>0</td>\n",
       "      <td>1</td>\n",
       "      <td>0</td>\n",
       "      <td>0</td>\n",
       "    </tr>\n",
       "    <tr>\n",
       "      <th>855</th>\n",
       "      <td>18.0</td>\n",
       "      <td>NaN</td>\n",
       "      <td>S</td>\n",
       "      <td>9.3500</td>\n",
       "      <td>Aks, Mrs. Sam (Leah Rosen)</td>\n",
       "      <td>1</td>\n",
       "      <td>856</td>\n",
       "      <td>3</td>\n",
       "      <td>female</td>\n",
       "      <td>0</td>\n",
       "      <td>1.0</td>\n",
       "      <td>392091</td>\n",
       "      <td>1</td>\n",
       "      <td>0</td>\n",
       "      <td>1</td>\n",
       "      <td>0</td>\n",
       "      <td>0</td>\n",
       "      <td>0</td>\n",
       "      <td>0</td>\n",
       "      <td>0</td>\n",
       "      <td>1</td>\n",
       "      <td>0</td>\n",
       "    </tr>\n",
       "  </tbody>\n",
       "</table>\n",
       "</div>"
      ],
      "text/plain": [
       "       Age Cabin Embarked    Fare                             Name  Parch  \\\n",
       "1279  21.0   NaN        Q  7.7500             Canavan, Mr. Patrick      0   \n",
       "410   25.0   NaN        S  7.8958               Sdycoff, Mr. Todor      0   \n",
       "68    17.0   NaN        S  7.9250  Andersson, Miss. Erna Alexandra      2   \n",
       "313   28.0   NaN        S  7.8958           Hendekovic, Mr. Ignjac      0   \n",
       "855   18.0   NaN        S  9.3500       Aks, Mrs. Sam (Leah Rosen)      1   \n",
       "\n",
       "      PassengerId  Pclass     Sex  SibSp  Survived   Ticket  Embarked_S  \\\n",
       "1279         1280       3    male      0       NaN   364858           0   \n",
       "410           411       3    male      0       0.0   349222           1   \n",
       "68             69       3  female      4       1.0  3101281           1   \n",
       "313           314       3    male      0       0.0   349243           1   \n",
       "855           856       3  female      0       1.0   392091           1   \n",
       "\n",
       "      Embarked_C  Sex_binary  Titles_Dr  Titles_Master  Titles_Military  \\\n",
       "1279           0           0          0              0                0   \n",
       "410            0           0          0              0                0   \n",
       "68             0           1          0              0                0   \n",
       "313            0           0          0              0                0   \n",
       "855            0           1          0              0                0   \n",
       "\n",
       "      Titles_Miss  Titles_Mr  Titles_Mrs  Titles_Nobility  \n",
       "1279            0          1           0                0  \n",
       "410             0          1           0                0  \n",
       "68              1          0           0                0  \n",
       "313             0          1           0                0  \n",
       "855             0          0           1                0  "
      ]
     },
     "execution_count": 35,
     "metadata": {},
     "output_type": "execute_result"
    }
   ],
   "source": [
    "df_all = pd.get_dummies(df_all,\n",
    "                        prefix=\"Titles\",\n",
    "                        columns=['Titles'])\n",
    "\n",
    "df_all.drop('Titles_Rev',\n",
    "            axis=1,\n",
    "            inplace=True)\n",
    "df_all.sample(5)"
   ]
  },
  {
   "cell_type": "code",
   "execution_count": 63,
   "metadata": {},
   "outputs": [],
   "source": [
    "train, test = divide_df(df_all)"
   ]
  },
  {
   "cell_type": "code",
   "execution_count": 64,
   "metadata": {},
   "outputs": [],
   "source": [
    "variables = [\n",
    "    'Sex_binary', 'Age', 'Pclass','SibSp', 'Parch', 'Fare','Embarked_S', 'Embarked_C', \n",
    "    'Titles_Dr', 'Titles_Master', 'Titles_Military', 'Titles_Miss', 'Titles_Mr', 'Titles_Mrs', 'Titles_Nobility'\n",
    "]\n",
    "\n",
    "X = train[variables]\n",
    "y = train['Survived']"
   ]
  },
  {
   "cell_type": "markdown",
   "metadata": {},
   "source": [
    "# 5. Construção do Modelo\n",
    "\n",
    "## Modelo com RandomForest"
   ]
  },
  {
   "cell_type": "code",
   "execution_count": 38,
   "metadata": {},
   "outputs": [
    {
     "name": "stdout",
     "output_type": "stream",
     "text": [
      "Acc: 0.8385650224215246\n",
      "\n",
      "Acc: 0.8067415730337079\n",
      "\n",
      "Acc: 0.8475336322869955\n",
      "\n",
      "Acc: 0.7865168539325843\n",
      "\n",
      "Acc: 0.8295964125560538\n",
      "\n",
      "Acc: 0.8134831460674158\n",
      "\n",
      "Acc: 0.8251121076233184\n",
      "\n",
      "Acc: 0.7865168539325843\n",
      "\n",
      "Acc: 0.8026905829596412\n",
      "\n",
      "Acc: 0.8292134831460675\n",
      "\n",
      "Acc: 0.8318385650224215\n",
      "\n",
      "Acc: 0.8314606741573034\n",
      "\n",
      "Acc: 0.8071748878923767\n",
      "\n",
      "Acc: 0.8179775280898877\n",
      "\n",
      "Acc: 0.8161434977578476\n",
      "\n",
      "Acc: 0.8269662921348314\n",
      "\n",
      "Acc: 0.8161434977578476\n",
      "\n",
      "Acc: 0.8179775280898877\n",
      "\n",
      "Acc: 0.827354260089686\n",
      "\n",
      "Acc: 0.8157303370786517\n",
      "\n"
     ]
    }
   ],
   "source": [
    "results_rf = []\n",
    "kf = RepeatedKFold(n_splits=2, n_repeats=10, random_state=SEED)\n",
    "\n",
    "for lines_train, lines_valid in kf.split(X):\n",
    "    X_train, X_valid = X.iloc[lines_train], X.iloc[lines_valid]\n",
    "    y_train, y_valid = y.iloc[lines_train], y.iloc[lines_valid]\n",
    "\n",
    "    model = RandomForestClassifier(criterion='gini',\n",
    "                                   n_estimators=2000,\n",
    "                                   max_depth=7,\n",
    "                                   min_samples_split=6,\n",
    "                                   min_samples_leaf=6,\n",
    "                                   max_features='auto',\n",
    "                                   oob_score=True,\n",
    "                                   n_jobs=-1,\n",
    "                                   random_state=SEED)\n",
    "    model.fit(X_train, y_train)\n",
    "\n",
    "    p = model.predict(X_valid)\n",
    "\n",
    "    acc = np.mean(y_valid == p)\n",
    "    results_rf.append(acc)\n",
    "    print(f\"Acc: {acc}\")\n",
    "    print()"
   ]
  },
  {
   "cell_type": "code",
   "execution_count": 39,
   "metadata": {},
   "outputs": [
    {
     "data": {
      "text/plain": [
       "0.8187368368015318"
      ]
     },
     "execution_count": 39,
     "metadata": {},
     "output_type": "execute_result"
    }
   ],
   "source": [
    "np.mean(results_rf)"
   ]
  },
  {
   "cell_type": "code",
   "execution_count": 40,
   "metadata": {
    "scrolled": true
   },
   "outputs": [
    {
     "data": {
      "text/plain": [
       "(array([2., 0., 1., 2., 4., 2., 4., 3., 1., 1.]),\n",
       " array([0.78651685, 0.79261853, 0.79872021, 0.80482189, 0.81092357,\n",
       "        0.81702524, 0.82312692, 0.8292286 , 0.83533028, 0.84143195,\n",
       "        0.84753363]),\n",
       " <a list of 10 Patch objects>)"
      ]
     },
     "execution_count": 40,
     "metadata": {},
     "output_type": "execute_result"
    },
    {
     "data": {
      "image/png": "[encoded data removed]",
      "text/plain": [
       "<Figure size 432x288 with 1 Axes>"
      ]
     },
     "metadata": {
      "needs_background": "light"
     },
     "output_type": "display_data"
    }
   ],
   "source": [
    "pylab.hist(results_rf)"
   ]
  },
  {
   "cell_type": "markdown",
   "metadata": {},
   "source": [
    "## Modelo com LogisticRegression"
   ]
  },
  {
   "cell_type": "code",
   "execution_count": 41,
   "metadata": {
    "scrolled": true
   },
   "outputs": [
    {
     "name": "stdout",
     "output_type": "stream",
     "text": [
      "Acc: 0.8385650224215246\n",
      "\n",
      "Acc: 0.8067415730337079\n",
      "\n",
      "Acc: 0.8340807174887892\n",
      "\n",
      "Acc: 0.8067415730337079\n",
      "\n",
      "Acc: 0.8251121076233184\n",
      "\n",
      "Acc: 0.8292134831460675\n",
      "\n",
      "Acc: 0.8139013452914798\n",
      "\n",
      "Acc: 0.8179775280898877\n",
      "\n",
      "Acc: 0.8094170403587444\n",
      "\n",
      "Acc: 0.8337078651685393\n",
      "\n",
      "Acc: 0.8228699551569507\n",
      "\n",
      "Acc: 0.8292134831460675\n",
      "\n",
      "Acc: 0.820627802690583\n",
      "\n",
      "Acc: 0.8067415730337079\n",
      "\n",
      "Acc: 0.8251121076233184\n",
      "\n",
      "Acc: 0.8404494382022472\n",
      "\n",
      "Acc: 0.8071748878923767\n",
      "\n",
      "Acc: 0.8089887640449438\n",
      "\n",
      "Acc: 0.8228699551569507\n",
      "\n",
      "Acc: 0.8134831460674158\n",
      "\n",
      "Acc: 0.8139013452914798\n",
      "\n",
      "Acc: 0.8179775280898877\n",
      "\n",
      "Acc: 0.8116591928251121\n",
      "\n",
      "Acc: 0.8269662921348314\n",
      "\n",
      "Acc: 0.8071748878923767\n",
      "\n",
      "Acc: 0.8247191011235955\n",
      "\n",
      "Acc: 0.8094170403587444\n",
      "\n",
      "Acc: 0.8471910112359551\n",
      "\n",
      "Acc: 0.8295964125560538\n",
      "\n",
      "Acc: 0.8134831460674158\n",
      "\n",
      "Acc: 0.8139013452914798\n",
      "\n",
      "Acc: 0.8314606741573034\n",
      "\n",
      "Acc: 0.820627802690583\n",
      "\n",
      "Acc: 0.8089887640449438\n",
      "\n",
      "Acc: 0.8183856502242153\n",
      "\n",
      "Acc: 0.8269662921348314\n",
      "\n",
      "Acc: 0.8139013452914798\n",
      "\n",
      "Acc: 0.8179775280898877\n",
      "\n",
      "Acc: 0.8295964125560538\n",
      "\n",
      "Acc: 0.8382022471910112\n",
      "\n"
     ]
    }
   ],
   "source": [
    "results_lr = []\n",
    "kf = RepeatedKFold(n_splits=2, n_repeats=20, random_state=SEED)\n",
    "\n",
    "for linhas_treino, linhas_valid in kf.split(X):\n",
    "    \n",
    "    X_treino, X_valid = X.iloc[linhas_treino], X.iloc[linhas_valid]\n",
    "    y_treino, y_valid = y.iloc[linhas_treino], y.iloc[linhas_valid]\n",
    "    \n",
    "    model = LogisticRegression(max_iter=1000, n_jobs=-1, random_state=SEED)\n",
    "    model.fit(X_treino, y_treino)\n",
    "    \n",
    "    p = model.predict(X_valid)\n",
    "    \n",
    "    acc = np.mean(y_valid == p)\n",
    "    results_lr.append(acc)\n",
    "    print(f'Acc: {acc}')\n",
    "    print()"
   ]
  },
  {
   "cell_type": "code",
   "execution_count": 42,
   "metadata": {},
   "outputs": [],
   "source": [
    "?LogisticRegression"
   ]
  },
  {
   "cell_type": "markdown",
   "metadata": {},
   "source": [
    "## Comparação dos dois modelos"
   ]
  },
  {
   "cell_type": "code",
   "execution_count": 43,
   "metadata": {},
   "outputs": [
    {
     "data": {
      "text/plain": [
       "<matplotlib.legend.Legend at 0x1ba37aedc08>"
      ]
     },
     "execution_count": 43,
     "metadata": {},
     "output_type": "execute_result"
    },
    {
     "data": {
      "image/png": "[encoded data removed]",
      "text/plain": [
       "<Figure size 432x288 with 1 Axes>"
      ]
     },
     "metadata": {
      "needs_background": "light"
     },
     "output_type": "display_data"
    }
   ],
   "source": [
    "pylab.hist(results_lr)\n",
    "pylab.hist(results_rf, alpha=0.5)\n",
    "\n",
    "plt.legend(labels = ['Regressão Logística', 'Random Forest'])"
   ]
  },
  {
   "cell_type": "code",
   "execution_count": 74,
   "metadata": {},
   "outputs": [
    {
     "name": "stdout",
     "output_type": "stream",
     "text": [
      "Mean of model #1: 0.8187368368015318\n",
      "Mean of model #2: 0.8208770846979393\n"
     ]
    }
   ],
   "source": [
    "means = [np.mean(results_rf), np.mean(results_lr)]\n",
    "\n",
    "for i in range(2):\n",
    "    print(f'Mean of model #{i+1}: {means[i]}')"
   ]
  },
  {
   "cell_type": "code",
   "execution_count": 76,
   "metadata": {},
   "outputs": [
    {
     "name": "stdout",
     "output_type": "stream",
     "text": [
      "Max of model #1: 0.8475336322869955\n",
      "Max of model #2: 0.8471910112359551\n"
     ]
    }
   ],
   "source": [
    "maxes = [np.max(results_rf), np.max(results_lr)]\n",
    "\n",
    "for i in range(2):\n",
    "    print(f'Max of model #{i+1}: {maxes[i]}')"
   ]
  },
  {
   "cell_type": "code",
   "execution_count": 68,
   "metadata": {},
   "outputs": [],
   "source": [
    "model_rf = RandomForestClassifier(criterion='gini',\n",
    "                                  n_estimators=2250,\n",
    "                                  max_depth=8,\n",
    "                                  min_samples_split=6,\n",
    "                                  min_samples_leaf=6,\n",
    "                                  max_features='auto',\n",
    "                                  oob_score=True,\n",
    "                                  n_jobs=-1,\n",
    "                                  random_state=SEED)\n",
    "model_rf.fit(X, y)\n",
    "\n",
    "p = model_rf.predict(test[variables])\n",
    "p = p.astype(int)"
   ]
  },
  {
   "cell_type": "markdown",
   "metadata": {},
   "source": [
    "# 6. Submissão ao Kaggle"
   ]
  },
  {
   "cell_type": "code",
   "execution_count": 70,
   "metadata": {},
   "outputs": [
    {
     "data": {
      "text/plain": [
       "(418,)"
      ]
     },
     "execution_count": 70,
     "metadata": {},
     "output_type": "execute_result"
    }
   ],
   "source": [
    "sub = pd.Series(p, index=test['PassengerId'], name='Survived')\n",
    "sub.shape"
   ]
  },
  {
   "cell_type": "code",
   "execution_count": 71,
   "metadata": {},
   "outputs": [],
   "source": [
    "sub.to_csv('model_with_random_forest.csv', header=True)"
   ]
  },
  {
   "cell_type": "code",
   "execution_count": 49,
   "metadata": {
    "scrolled": false
   },
   "outputs": [
    {
     "name": "stdout",
     "output_type": "stream",
     "text": [
      "PassengerId,Survived\n",
      "892,0\n",
      "893,0\n",
      "894,0\n",
      "895,0\n",
      "896,1\n",
      "897,0\n",
      "898,1\n",
      "899,0\n",
      "900,1\n"
     ]
    }
   ],
   "source": [
    "!head -n10 model_with_random_forest.csv"
   ]
  }
 ],
 "metadata": {
  "kernelspec": {
   "display_name": "Python 3",
   "language": "python",
   "name": "python3"
  },
  "language_info": {
   "codemirror_mode": {
    "name": "ipython",
    "version": 3
   },
   "file_extension": ".py",
   "mimetype": "text/x-python",
   "name": "python",
   "nbconvert_exporter": "python",
   "pygments_lexer": "ipython3",
   "version": "3.7.7"
  }
 },
 "nbformat": 4,
 "nbformat_minor": 4
}
